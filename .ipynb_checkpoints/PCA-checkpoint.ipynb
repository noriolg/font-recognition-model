{
 "cells": [
  {
   "cell_type": "markdown",
   "metadata": {},
   "source": [
    "# Font recognition - improved models with PCA\n"
   ]
  },
  {
   "cell_type": "markdown",
   "metadata": {},
   "source": [
    "## Load data and train-validation split"
   ]
  },
  {
   "cell_type": "markdown",
   "metadata": {},
   "source": [
    "**Data is loaded, observed and treated**"
   ]
  },
  {
   "cell_type": "code",
   "execution_count": 93,
   "metadata": {},
   "outputs": [],
   "source": [
    "import numpy as np\n",
    "import pandas as pd\n",
    "import matplotlib.pyplot as plt\n",
    "\n",
    "train_data = pd.read_csv('data/train_data.csv')\n",
    "train_labels = pd.read_csv('data/train_labels.csv')\n"
   ]
  },
  {
   "cell_type": "markdown",
   "metadata": {},
   "source": [
    "Labels are factorized and a full dataframe is constructed adding the encoded values as the last column"
   ]
  },
  {
   "cell_type": "code",
   "execution_count": 94,
   "metadata": {},
   "outputs": [],
   "source": [
    "label_encoded, unique_labels = pd.factorize(train_labels['Font'])\n",
    "labels = pd.DataFrame(label_encoded, columns=['label'])\n",
    "df = pd.concat([train_data, labels], axis = 1)"
   ]
  },
  {
   "cell_type": "markdown",
   "metadata": {},
   "source": [
    "**Train and validation split is conducted**"
   ]
  },
  {
   "cell_type": "code",
   "execution_count": 95,
   "metadata": {},
   "outputs": [],
   "source": [
    "from sklearn.model_selection import train_test_split\n",
    "X = df.iloc[:, :-1]\n",
    "Y = df.iloc[:, -1]\n",
    "x_train_df, x_valid_df, y_train_df, y_valid_df = train_test_split(X, Y, test_size=0.3, random_state = 0)"
   ]
  },
  {
   "cell_type": "markdown",
   "metadata": {},
   "source": [
    "**Finally, the test data is loaded as well**"
   ]
  },
  {
   "cell_type": "code",
   "execution_count": 96,
   "metadata": {},
   "outputs": [],
   "source": [
    "test_data = pd.read_csv('data/test_data.csv')\n",
    "x_test_df = test_data"
   ]
  },
  {
   "cell_type": "markdown",
   "metadata": {},
   "source": [
    "## Normalization of data"
   ]
  },
  {
   "cell_type": "markdown",
   "metadata": {},
   "source": [
    "Now df has all the needed information. It will be transformed to a np.array for easier treatment within sklearn package"
   ]
  },
  {
   "cell_type": "code",
   "execution_count": 97,
   "metadata": {},
   "outputs": [],
   "source": [
    "x_train_pre_norm = np.array(x_train_df)\n",
    "x_valid_pre_norm = np.array(x_valid_df)\n",
    "y_train = np.array(y_train_df)\n",
    "y_valid = np.array(y_valid_df)\n",
    "x_test_pre_norm = np.array(x_test_df)\n",
    "\n",
    "X_np = np.array(X)"
   ]
  },
  {
   "cell_type": "markdown",
   "metadata": {},
   "source": [
    "`mean` and `std` are obtained from full dataset"
   ]
  },
  {
   "cell_type": "code",
   "execution_count": 98,
   "metadata": {},
   "outputs": [],
   "source": [
    "mean = np.sum(X_np, axis = 0) / X_np.shape[0]\n",
    "std = np.std(X_np, axis = 0)"
   ]
  },
  {
   "cell_type": "markdown",
   "metadata": {},
   "source": [
    "Implement normalization function from Homework 9"
   ]
  },
  {
   "cell_type": "code",
   "execution_count": 99,
   "metadata": {},
   "outputs": [],
   "source": [
    "def normalize(X, mean, std):\n",
    "    \"\"\"Normalizes a given array X by columns \n",
    "    with the mean and std\"\"\"\n",
    "    X_out = np.zeros(X.shape)\n",
    "    X_out = (X - mean)/std\n",
    "    return X_out "
   ]
  },
  {
   "cell_type": "code",
   "execution_count": 100,
   "metadata": {},
   "outputs": [],
   "source": [
    "x_train = normalize(x_train_pre_norm, mean, std)\n",
    "x_valid = normalize(x_valid_pre_norm, mean, std)\n",
    "x_test = normalize(x_test_pre_norm, mean, std)"
   ]
  },
  {
   "cell_type": "markdown",
   "metadata": {},
   "source": [
    "## Function to save submission csv"
   ]
  },
  {
   "cell_type": "markdown",
   "metadata": {},
   "source": [
    "A function will be created that saves predictions as a csv with the correct format"
   ]
  },
  {
   "cell_type": "code",
   "execution_count": 101,
   "metadata": {},
   "outputs": [],
   "source": [
    "def predictions_as_csv(y_pred, file_name):\n",
    "    path = \"submissions/\"\n",
    "    status = 0\n",
    "    if len(y_pred) == 29221:\n",
    "        ids = np.arange(1,len(y_pred)+1,1)\n",
    "        pred_label = unique_labels[y_pred]\n",
    "        data = {'ID':ids, 'Font':pred_label} \n",
    "        submission = pd.DataFrame(data)\n",
    "        submission.to_csv(path + file_name + \".csv\", index = False)\n",
    "        status = 1\n",
    "    \n",
    "    return status"
   ]
  },
  {
   "cell_type": "markdown",
   "metadata": {},
   "source": [
    "## PCA before applying neural network"
   ]
  },
  {
   "cell_type": "code",
   "execution_count": 102,
   "metadata": {},
   "outputs": [],
   "source": [
    "from sklearn.neural_network import MLPClassifier\n",
    "from sklearn.metrics import hamming_loss"
   ]
  },
  {
   "cell_type": "code",
   "execution_count": 103,
   "metadata": {},
   "outputs": [],
   "source": [
    "from sklearn.decomposition import PCA\n",
    "\n",
    "pca = PCA()\n",
    "x_train_pca1 = pca.fit_transform(x_train)\n",
    "x_valid_pca1 = pca.transform(x_valid)\n",
    "x_test_pca1 = pca.transform(x_test)"
   ]
  },
  {
   "cell_type": "code",
   "execution_count": 60,
   "metadata": {},
   "outputs": [
    {
     "data": {
      "image/png": "[encoded data removed]",
      "text/plain": [
       "<Figure size 432x288 with 1 Axes>"
      ]
     },
     "metadata": {
      "needs_background": "light"
     },
     "output_type": "display_data"
    }
   ],
   "source": [
    "plt.plot(pca.explained_variance_)\n",
    "plt.ylabel('Explained variance')\n",
    "plt.show()\n"
   ]
  },
  {
   "cell_type": "code",
   "execution_count": 63,
   "metadata": {},
   "outputs": [],
   "source": [
    "x_train = x_train_pca1[:,0:50]\n",
    "x_valid = x_valid_pca1[:,0:50]"
   ]
  },
  {
   "cell_type": "code",
   "execution_count": 64,
   "metadata": {},
   "outputs": [
    {
     "data": {
      "text/plain": [
       "(45500, 50)"
      ]
     },
     "execution_count": 64,
     "metadata": {},
     "output_type": "execute_result"
    }
   ],
   "source": [
    "x_train.shape"
   ]
  },
  {
   "cell_type": "markdown",
   "metadata": {},
   "source": [
    "## Neural network alpha = 0.5"
   ]
  },
  {
   "cell_type": "code",
   "execution_count": 65,
   "metadata": {},
   "outputs": [],
   "source": [
    "from sklearn.neural_network import MLPClassifier\n",
    "from sklearn.metrics import hamming_loss"
   ]
  },
  {
   "cell_type": "code",
   "execution_count": 66,
   "metadata": {},
   "outputs": [
    {
     "data": {
      "text/plain": [
       "MLPClassifier(activation='logistic', alpha=0.5, max_iter=300, random_state=1)"
      ]
     },
     "execution_count": 66,
     "metadata": {},
     "output_type": "execute_result"
    }
   ],
   "source": [
    "model_nNetwork = MLPClassifier(random_state=1, max_iter=300, alpha = 0.5, activation = 'logistic')\n",
    "model_nNetwork.fit(x_train, y_train)"
   ]
  },
  {
   "cell_type": "code",
   "execution_count": 67,
   "metadata": {},
   "outputs": [
    {
     "name": "stdout",
     "output_type": "stream",
     "text": [
      "The training error is: 0.42940659340659343.\n"
     ]
    }
   ],
   "source": [
    "y_pred_train = model_nNetwork.predict(x_train)\n",
    "error = hamming_loss(y_train, y_pred_train)\n",
    "print('The training error is: ' + str(error) + '.')"
   ]
  },
  {
   "cell_type": "code",
   "execution_count": 68,
   "metadata": {},
   "outputs": [
    {
     "name": "stdout",
     "output_type": "stream",
     "text": [
      "The validation error is: 0.47035897435897434.\n"
     ]
    }
   ],
   "source": [
    "y_pred_valid = model_nNetwork.predict(x_valid)\n",
    "error = hamming_loss(y_valid, y_pred_valid)\n",
    "print('The validation error is: ' + str(error) + '.')"
   ]
  },
  {
   "cell_type": "code",
   "execution_count": 69,
   "metadata": {},
   "outputs": [
    {
     "data": {
      "text/plain": [
       "0.5296410256410257"
      ]
     },
     "execution_count": 69,
     "metadata": {},
     "output_type": "execute_result"
    }
   ],
   "source": [
    "predicted_score = 1- error\n",
    "predicted_score"
   ]
  },
  {
   "cell_type": "markdown",
   "metadata": {},
   "source": [
    "## Deep neural network I"
   ]
  },
  {
   "cell_type": "code",
   "execution_count": 71,
   "metadata": {
    "colab": {
     "base_uri": "https://localhost:8080/"
    },
    "id": "I-evJeIIDMhd",
    "outputId": "149c9eb6-3b8a-4424-f6c6-62d50170f601"
   },
   "outputs": [
    {
     "data": {
      "text/plain": [
       "MLPClassifier(alpha=1.2, hidden_layer_sizes=(200, 100, 100, 50),\n",
       "              learning_rate='adaptive', max_iter=1000, random_state=1)"
      ]
     },
     "execution_count": 71,
     "metadata": {},
     "output_type": "execute_result"
    }
   ],
   "source": [
    "model_nNetwork = MLPClassifier(random_state=1, max_iter=1000, alpha = 1.2, activation = 'relu', learning_rate = 'adaptive', hidden_layer_sizes=(200,100,100,50) )\n",
    "model_nNetwork.fit(x_train, y_train)"
   ]
  },
  {
   "cell_type": "code",
   "execution_count": 72,
   "metadata": {
    "colab": {
     "base_uri": "https://localhost:8080/"
    },
    "id": "b72MAXz6DMhf",
    "outputId": "d58c08dc-7bb0-4675-da53-7b7088dd7da3"
   },
   "outputs": [
    {
     "name": "stdout",
     "output_type": "stream",
     "text": [
      "The training error is: 0.21413186813186813.\n"
     ]
    }
   ],
   "source": [
    "y_pred_train = model_nNetwork.predict(x_train)\n",
    "error = hamming_loss(y_train, y_pred_train)\n",
    "print('The training error is: ' + str(error) + '.')"
   ]
  },
  {
   "cell_type": "code",
   "execution_count": 73,
   "metadata": {
    "colab": {
     "base_uri": "https://localhost:8080/"
    },
    "id": "8xqJPdwcDMhf",
    "outputId": "0135bafe-dc33-42ab-d579-75482781a7fe"
   },
   "outputs": [
    {
     "name": "stdout",
     "output_type": "stream",
     "text": [
      "The validation error is: 0.36246153846153845.\n"
     ]
    }
   ],
   "source": [
    "y_pred_valid = model_nNetwork.predict(x_valid)\n",
    "error = hamming_loss(y_valid, y_pred_valid)\n",
    "print('The validation error is: ' + str(error) + '.')"
   ]
  },
  {
   "cell_type": "code",
   "execution_count": 74,
   "metadata": {
    "colab": {
     "base_uri": "https://localhost:8080/"
    },
    "id": "fy5GXrrtDMhf",
    "outputId": "2a232eb7-8633-445e-b2b9-0a5d0ef63ffd"
   },
   "outputs": [
    {
     "data": {
      "text/plain": [
       "0.6375384615384616"
      ]
     },
     "execution_count": 74,
     "metadata": {},
     "output_type": "execute_result"
    }
   ],
   "source": [
    "predicted_score = 1- error\n",
    "predicted_score"
   ]
  },
  {
   "cell_type": "code",
   "execution_count": 70,
   "metadata": {},
   "outputs": [
    {
     "data": {
      "text/plain": [
       "0.73"
      ]
     },
     "execution_count": 70,
     "metadata": {},
     "output_type": "execute_result"
    }
   ],
   "source": [
    "0.73"
   ]
  },
  {
   "cell_type": "markdown",
   "metadata": {},
   "source": [
    "## Testing if just PCA works by itself with all columns"
   ]
  },
  {
   "cell_type": "code",
   "execution_count": 63,
   "metadata": {},
   "outputs": [],
   "source": [
    "x_train = x_train_pca1\n",
    "x_valid = x_valid_pca1"
   ]
  },
  {
   "cell_type": "markdown",
   "metadata": {},
   "source": [
    "## Deep neural network II"
   ]
  },
  {
   "cell_type": "code",
   "execution_count": 33,
   "metadata": {
    "colab": {
     "base_uri": "https://localhost:8080/"
    },
    "id": "I-evJeIIDMhd",
    "outputId": "149c9eb6-3b8a-4424-f6c6-62d50170f601"
   },
   "outputs": [
    {
     "data": {
      "text/plain": [
       "MLPClassifier(alpha=1.2, hidden_layer_sizes=(200, 100),\n",
       "              learning_rate='adaptive', max_iter=1000, random_state=1)"
      ]
     },
     "execution_count": 33,
     "metadata": {},
     "output_type": "execute_result"
    }
   ],
   "source": [
    "model_nNetwork = MLPClassifier(random_state=1, max_iter=1000, alpha = 1.2, activation = 'relu', learning_rate = 'adaptive', hidden_layer_sizes=(200,100) )\n",
    "model_nNetwork.fit(x_train, y_train)"
   ]
  },
  {
   "cell_type": "code",
   "execution_count": 34,
   "metadata": {
    "colab": {
     "base_uri": "https://localhost:8080/"
    },
    "id": "b72MAXz6DMhf",
    "outputId": "d58c08dc-7bb0-4675-da53-7b7088dd7da3"
   },
   "outputs": [
    {
     "name": "stdout",
     "output_type": "stream",
     "text": [
      "The training error is: 0.11749450549450549.\n"
     ]
    }
   ],
   "source": [
    "y_pred_train = model_nNetwork.predict(x_train)\n",
    "error = hamming_loss(y_train, y_pred_train)\n",
    "print('The training error is: ' + str(error) + '.')"
   ]
  },
  {
   "cell_type": "code",
   "execution_count": 35,
   "metadata": {
    "colab": {
     "base_uri": "https://localhost:8080/"
    },
    "id": "8xqJPdwcDMhf",
    "outputId": "0135bafe-dc33-42ab-d579-75482781a7fe"
   },
   "outputs": [
    {
     "name": "stdout",
     "output_type": "stream",
     "text": [
      "The validation error is: 0.2721025641025641.\n"
     ]
    }
   ],
   "source": [
    "y_pred_valid = model_nNetwork.predict(x_valid)\n",
    "error = hamming_loss(y_valid, y_pred_valid)\n",
    "print('The validation error is: ' + str(error) + '.')"
   ]
  },
  {
   "cell_type": "code",
   "execution_count": 36,
   "metadata": {
    "colab": {
     "base_uri": "https://localhost:8080/"
    },
    "id": "fy5GXrrtDMhf",
    "outputId": "2a232eb7-8633-445e-b2b9-0a5d0ef63ffd"
   },
   "outputs": [
    {
     "data": {
      "text/plain": [
       "0.7278974358974359"
      ]
     },
     "execution_count": 36,
     "metadata": {},
     "output_type": "execute_result"
    }
   ],
   "source": [
    "predicted_score = 1- error\n",
    "predicted_score"
   ]
  },
  {
   "cell_type": "markdown",
   "metadata": {},
   "source": [
    "## Deep neural network III"
   ]
  },
  {
   "cell_type": "code",
   "execution_count": 37,
   "metadata": {
    "colab": {
     "base_uri": "https://localhost:8080/"
    },
    "id": "I-evJeIIDMhd",
    "outputId": "149c9eb6-3b8a-4424-f6c6-62d50170f601"
   },
   "outputs": [
    {
     "data": {
      "text/plain": [
       "MLPClassifier(alpha=1.2, hidden_layer_sizes=(100, 100),\n",
       "              learning_rate='adaptive', max_iter=1000, random_state=1)"
      ]
     },
     "execution_count": 37,
     "metadata": {},
     "output_type": "execute_result"
    }
   ],
   "source": [
    "model_nNetwork = MLPClassifier(random_state=1, max_iter=1000, alpha = 1.2, activation = 'relu', learning_rate = 'adaptive', hidden_layer_sizes=(100,100) )\n",
    "model_nNetwork.fit(x_train, y_train)"
   ]
  },
  {
   "cell_type": "code",
   "execution_count": 38,
   "metadata": {
    "colab": {
     "base_uri": "https://localhost:8080/"
    },
    "id": "b72MAXz6DMhf",
    "outputId": "d58c08dc-7bb0-4675-da53-7b7088dd7da3"
   },
   "outputs": [
    {
     "name": "stdout",
     "output_type": "stream",
     "text": [
      "The training error is: 0.15830769230769232.\n"
     ]
    }
   ],
   "source": [
    "y_pred_train = model_nNetwork.predict(x_train)\n",
    "error = hamming_loss(y_train, y_pred_train)\n",
    "print('The training error is: ' + str(error) + '.')"
   ]
  },
  {
   "cell_type": "code",
   "execution_count": 39,
   "metadata": {
    "colab": {
     "base_uri": "https://localhost:8080/"
    },
    "id": "8xqJPdwcDMhf",
    "outputId": "0135bafe-dc33-42ab-d579-75482781a7fe"
   },
   "outputs": [
    {
     "name": "stdout",
     "output_type": "stream",
     "text": [
      "The validation error is: 0.2924102564102564.\n"
     ]
    }
   ],
   "source": [
    "y_pred_valid = model_nNetwork.predict(x_valid)\n",
    "error = hamming_loss(y_valid, y_pred_valid)\n",
    "print('The validation error is: ' + str(error) + '.')"
   ]
  },
  {
   "cell_type": "code",
   "execution_count": 40,
   "metadata": {
    "colab": {
     "base_uri": "https://localhost:8080/"
    },
    "id": "fy5GXrrtDMhf",
    "outputId": "2a232eb7-8633-445e-b2b9-0a5d0ef63ffd"
   },
   "outputs": [
    {
     "data": {
      "text/plain": [
       "0.7075897435897436"
      ]
     },
     "execution_count": 40,
     "metadata": {},
     "output_type": "execute_result"
    }
   ],
   "source": [
    "predicted_score = 1- error\n",
    "predicted_score"
   ]
  },
  {
   "cell_type": "markdown",
   "metadata": {},
   "source": [
    "## Deep neural network IV"
   ]
  },
  {
   "cell_type": "code",
   "execution_count": 41,
   "metadata": {
    "colab": {
     "base_uri": "https://localhost:8080/"
    },
    "id": "I-evJeIIDMhd",
    "outputId": "149c9eb6-3b8a-4424-f6c6-62d50170f601"
   },
   "outputs": [
    {
     "data": {
      "text/plain": [
       "MLPClassifier(alpha=1.5, hidden_layer_sizes=(100, 100),\n",
       "              learning_rate='adaptive', max_iter=1000, random_state=1)"
      ]
     },
     "execution_count": 41,
     "metadata": {},
     "output_type": "execute_result"
    }
   ],
   "source": [
    "model_nNetwork = MLPClassifier(random_state=1, max_iter=1000, alpha = 1.5, activation = 'relu', learning_rate = 'adaptive', hidden_layer_sizes=(100,100) )\n",
    "model_nNetwork.fit(x_train, y_train)"
   ]
  },
  {
   "cell_type": "code",
   "execution_count": 42,
   "metadata": {
    "colab": {
     "base_uri": "https://localhost:8080/"
    },
    "id": "b72MAXz6DMhf",
    "outputId": "d58c08dc-7bb0-4675-da53-7b7088dd7da3"
   },
   "outputs": [
    {
     "name": "stdout",
     "output_type": "stream",
     "text": [
      "The training error is: 0.17672527472527472.\n"
     ]
    }
   ],
   "source": [
    "y_pred_train = model_nNetwork.predict(x_train)\n",
    "error = hamming_loss(y_train, y_pred_train)\n",
    "print('The training error is: ' + str(error) + '.')"
   ]
  },
  {
   "cell_type": "code",
   "execution_count": 43,
   "metadata": {
    "colab": {
     "base_uri": "https://localhost:8080/"
    },
    "id": "8xqJPdwcDMhf",
    "outputId": "0135bafe-dc33-42ab-d579-75482781a7fe"
   },
   "outputs": [
    {
     "name": "stdout",
     "output_type": "stream",
     "text": [
      "The validation error is: 0.299025641025641.\n"
     ]
    }
   ],
   "source": [
    "y_pred_valid = model_nNetwork.predict(x_valid)\n",
    "error = hamming_loss(y_valid, y_pred_valid)\n",
    "print('The validation error is: ' + str(error) + '.')"
   ]
  },
  {
   "cell_type": "code",
   "execution_count": 44,
   "metadata": {
    "colab": {
     "base_uri": "https://localhost:8080/"
    },
    "id": "fy5GXrrtDMhf",
    "outputId": "2a232eb7-8633-445e-b2b9-0a5d0ef63ffd"
   },
   "outputs": [
    {
     "data": {
      "text/plain": [
       "0.700974358974359"
      ]
     },
     "execution_count": 44,
     "metadata": {},
     "output_type": "execute_result"
    }
   ],
   "source": [
    "predicted_score = 1- error\n",
    "predicted_score"
   ]
  },
  {
   "cell_type": "markdown",
   "metadata": {},
   "source": [
    "## Deep neural network V"
   ]
  },
  {
   "cell_type": "code",
   "execution_count": 45,
   "metadata": {
    "colab": {
     "base_uri": "https://localhost:8080/"
    },
    "id": "I-evJeIIDMhd",
    "outputId": "149c9eb6-3b8a-4424-f6c6-62d50170f601"
   },
   "outputs": [
    {
     "data": {
      "text/plain": [
       "MLPClassifier(alpha=1.5, hidden_layer_sizes=(100, 100, 100, 100),\n",
       "              learning_rate='adaptive', max_iter=1000, random_state=1)"
      ]
     },
     "execution_count": 45,
     "metadata": {},
     "output_type": "execute_result"
    }
   ],
   "source": [
    "model_nNetwork = MLPClassifier(random_state=1, max_iter=1000, alpha = 1.5, activation = 'relu', learning_rate = 'adaptive', hidden_layer_sizes=(100,100,100,100) )\n",
    "model_nNetwork.fit(x_train, y_train)"
   ]
  },
  {
   "cell_type": "code",
   "execution_count": 46,
   "metadata": {
    "colab": {
     "base_uri": "https://localhost:8080/"
    },
    "id": "b72MAXz6DMhf",
    "outputId": "d58c08dc-7bb0-4675-da53-7b7088dd7da3"
   },
   "outputs": [
    {
     "name": "stdout",
     "output_type": "stream",
     "text": [
      "The training error is: 0.1340879120879121.\n"
     ]
    }
   ],
   "source": [
    "y_pred_train = model_nNetwork.predict(x_train)\n",
    "error = hamming_loss(y_train, y_pred_train)\n",
    "print('The training error is: ' + str(error) + '.')"
   ]
  },
  {
   "cell_type": "code",
   "execution_count": 47,
   "metadata": {
    "colab": {
     "base_uri": "https://localhost:8080/"
    },
    "id": "8xqJPdwcDMhf",
    "outputId": "0135bafe-dc33-42ab-d579-75482781a7fe"
   },
   "outputs": [
    {
     "name": "stdout",
     "output_type": "stream",
     "text": [
      "The validation error is: 0.28615384615384615.\n"
     ]
    }
   ],
   "source": [
    "y_pred_valid = model_nNetwork.predict(x_valid)\n",
    "error = hamming_loss(y_valid, y_pred_valid)\n",
    "print('The validation error is: ' + str(error) + '.')"
   ]
  },
  {
   "cell_type": "code",
   "execution_count": 48,
   "metadata": {
    "colab": {
     "base_uri": "https://localhost:8080/"
    },
    "id": "fy5GXrrtDMhf",
    "outputId": "2a232eb7-8633-445e-b2b9-0a5d0ef63ffd"
   },
   "outputs": [
    {
     "data": {
      "text/plain": [
       "0.7138461538461538"
      ]
     },
     "execution_count": 48,
     "metadata": {},
     "output_type": "execute_result"
    }
   ],
   "source": [
    "predicted_score = 1- error\n",
    "predicted_score"
   ]
  },
  {
   "cell_type": "markdown",
   "metadata": {},
   "source": [
    "## Deep neural network VI"
   ]
  },
  {
   "cell_type": "code",
   "execution_count": 49,
   "metadata": {},
   "outputs": [
    {
     "data": {
      "text/plain": [
       "MLPClassifier(alpha=1.3, hidden_layer_sizes=(150, 50, 50, 50, 50, 50),\n",
       "              learning_rate='adaptive', max_iter=1000, random_state=1)"
      ]
     },
     "execution_count": 49,
     "metadata": {},
     "output_type": "execute_result"
    }
   ],
   "source": [
    "model_nNetwork = MLPClassifier(random_state=1, max_iter=1000, alpha = 1.3, activation = 'relu', learning_rate = 'adaptive', hidden_layer_sizes=(150,50,50,50,50, 50) )\n",
    "model_nNetwork.fit(x_train, y_train)"
   ]
  },
  {
   "cell_type": "code",
   "execution_count": 50,
   "metadata": {
    "colab": {
     "base_uri": "https://localhost:8080/"
    },
    "id": "b72MAXz6DMhf",
    "outputId": "d58c08dc-7bb0-4675-da53-7b7088dd7da3"
   },
   "outputs": [
    {
     "name": "stdout",
     "output_type": "stream",
     "text": [
      "The training error is: 0.09059340659340659.\n"
     ]
    }
   ],
   "source": [
    "y_pred_train = model_nNetwork.predict(x_train)\n",
    "error = hamming_loss(y_train, y_pred_train)\n",
    "print('The training error is: ' + str(error) + '.')"
   ]
  },
  {
   "cell_type": "code",
   "execution_count": 51,
   "metadata": {
    "colab": {
     "base_uri": "https://localhost:8080/"
    },
    "id": "8xqJPdwcDMhf",
    "outputId": "0135bafe-dc33-42ab-d579-75482781a7fe"
   },
   "outputs": [
    {
     "name": "stdout",
     "output_type": "stream",
     "text": [
      "The validation error is: 0.26892307692307693.\n"
     ]
    }
   ],
   "source": [
    "y_pred_valid = model_nNetwork.predict(x_valid)\n",
    "error = hamming_loss(y_valid, y_pred_valid)\n",
    "print('The validation error is: ' + str(error) + '.')"
   ]
  },
  {
   "cell_type": "code",
   "execution_count": 52,
   "metadata": {
    "colab": {
     "base_uri": "https://localhost:8080/"
    },
    "id": "fy5GXrrtDMhf",
    "outputId": "2a232eb7-8633-445e-b2b9-0a5d0ef63ffd"
   },
   "outputs": [
    {
     "data": {
      "text/plain": [
       "0.7310769230769231"
      ]
     },
     "execution_count": 52,
     "metadata": {},
     "output_type": "execute_result"
    }
   ],
   "source": [
    "predicted_score = 1- error\n",
    "predicted_score"
   ]
  },
  {
   "cell_type": "markdown",
   "metadata": {},
   "source": [
    "## Deep neural network VII"
   ]
  },
  {
   "cell_type": "code",
   "execution_count": 29,
   "metadata": {
    "colab": {
     "base_uri": "https://localhost:8080/"
    },
    "id": "I-evJeIIDMhd",
    "outputId": "149c9eb6-3b8a-4424-f6c6-62d50170f601"
   },
   "outputs": [
    {
     "data": {
      "text/plain": [
       "MLPClassifier(alpha=1.2, hidden_layer_sizes=(200, 100, 100, 50),\n",
       "              learning_rate='adaptive', max_iter=1000, random_state=1)"
      ]
     },
     "execution_count": 29,
     "metadata": {},
     "output_type": "execute_result"
    }
   ],
   "source": [
    "model_nNetwork = MLPClassifier(random_state=1, max_iter=1000, alpha = 1.3, activation = 'relu', learning_rate = 'adaptive', hidden_layer_sizes=(200,100,100,50) )\n",
    "model_nNetwork.fit(x_train, y_train)"
   ]
  },
  {
   "cell_type": "code",
   "execution_count": 30,
   "metadata": {
    "colab": {
     "base_uri": "https://localhost:8080/"
    },
    "id": "b72MAXz6DMhf",
    "outputId": "d58c08dc-7bb0-4675-da53-7b7088dd7da3"
   },
   "outputs": [
    {
     "name": "stdout",
     "output_type": "stream",
     "text": [
      "The training error is: 0.10287912087912088.\n"
     ]
    }
   ],
   "source": [
    "y_pred_train = model_nNetwork.predict(x_train)\n",
    "error = hamming_loss(y_train, y_pred_train)\n",
    "print('The training error is: ' + str(error) + '.')"
   ]
  },
  {
   "cell_type": "code",
   "execution_count": 31,
   "metadata": {
    "colab": {
     "base_uri": "https://localhost:8080/"
    },
    "id": "8xqJPdwcDMhf",
    "outputId": "0135bafe-dc33-42ab-d579-75482781a7fe"
   },
   "outputs": [
    {
     "name": "stdout",
     "output_type": "stream",
     "text": [
      "The validation error is: 0.26461538461538464.\n"
     ]
    }
   ],
   "source": [
    "y_pred_valid = model_nNetwork.predict(x_valid)\n",
    "error = hamming_loss(y_valid, y_pred_valid)\n",
    "print('The validation error is: ' + str(error) + '.')"
   ]
  },
  {
   "cell_type": "code",
   "execution_count": 32,
   "metadata": {
    "colab": {
     "base_uri": "https://localhost:8080/"
    },
    "id": "fy5GXrrtDMhf",
    "outputId": "2a232eb7-8633-445e-b2b9-0a5d0ef63ffd"
   },
   "outputs": [
    {
     "data": {
      "text/plain": [
       "0.7353846153846153"
      ]
     },
     "execution_count": 32,
     "metadata": {},
     "output_type": "execute_result"
    }
   ],
   "source": [
    "predicted_score = 1- error\n",
    "predicted_score"
   ]
  },
  {
   "cell_type": "markdown",
   "metadata": {},
   "source": [
    "## Loop with several PCA options"
   ]
  },
  {
   "cell_type": "code",
   "execution_count": 80,
   "metadata": {},
   "outputs": [],
   "source": [
    "pca_options = [75, 100, 125,  150, 200]"
   ]
  },
  {
   "cell_type": "code",
   "execution_count": 81,
   "metadata": {},
   "outputs": [
    {
     "name": "stdout",
     "output_type": "stream",
     "text": [
      "\n",
      "==================\n",
      "pca_option\n",
      "75\n",
      "The training error is: 0.1696043956043956.\n",
      "The validation error is: 0.30805128205128207.\n",
      "\n",
      "==================\n",
      "pca_option\n",
      "100\n",
      "The training error is: 0.14494505494505494.\n",
      "The validation error is: 0.2822051282051282.\n",
      "\n",
      "==================\n",
      "pca_option\n",
      "125\n",
      "The training error is: 0.1306813186813187.\n",
      "The validation error is: 0.2794358974358974.\n",
      "\n",
      "==================\n",
      "pca_option\n",
      "150\n",
      "The training error is: 0.10527472527472527.\n",
      "The validation error is: 0.2494871794871795.\n",
      "\n",
      "==================\n",
      "pca_option\n",
      "200\n",
      "The training error is: 0.10331868131868131.\n",
      "The validation error is: 0.25984615384615384.\n"
     ]
    }
   ],
   "source": [
    "for i in pca_options:\n",
    "    print(\"\\n==================\")\n",
    "    print(\"pca_option\")\n",
    "    print(i)\n",
    "    x_train = x_train_pca1[:,0:i]\n",
    "    x_valid = x_valid_pca1[:,0:i]\n",
    "    \n",
    "    model_nNetwork = MLPClassifier(random_state=1, max_iter=1000, alpha = 1.3, activation = 'relu', learning_rate = 'adaptive', hidden_layer_sizes=(200,100,100,50) )\n",
    "    model_nNetwork.fit(x_train, y_train)\n",
    "\n",
    "    y_pred_train = model_nNetwork.predict(x_train)\n",
    "    error = hamming_loss(y_train, y_pred_train)\n",
    "    print('The training error is: ' + str(error) + '.')\n",
    "\n",
    "    y_pred_valid = model_nNetwork.predict(x_valid)\n",
    "    error = hamming_loss(y_valid, y_pred_valid)\n",
    "    print('The validation error is: ' + str(error) + '.')\n",
    "\n",
    "    predicted_score = 1- error\n",
    "    predicted_score"
   ]
  },
  {
   "cell_type": "code",
   "execution_count": 82,
   "metadata": {},
   "outputs": [],
   "source": [
    "pca_options = [210, 225, 250,275, 300, 350]"
   ]
  },
  {
   "cell_type": "code",
   "execution_count": 83,
   "metadata": {},
   "outputs": [
    {
     "name": "stdout",
     "output_type": "stream",
     "text": [
      "\n",
      "==================\n",
      "pca_option\n",
      "210\n",
      "The training error is: 0.09698901098901098.\n",
      "The validation error is: 0.24979487179487178.\n",
      "\n",
      "==================\n",
      "pca_option\n",
      "225\n",
      "The training error is: 0.09986813186813187.\n",
      "The validation error is: 0.24917948717948718.\n",
      "\n",
      "==================\n",
      "pca_option\n",
      "250\n",
      "The training error is: 0.09872527472527473.\n",
      "The validation error is: 0.25958974358974357.\n",
      "\n",
      "==================\n",
      "pca_option\n",
      "275\n",
      "The training error is: 0.0965934065934066.\n",
      "The validation error is: 0.25235897435897436.\n",
      "\n",
      "==================\n",
      "pca_option\n",
      "300\n",
      "The training error is: 0.09448351648351648.\n",
      "The validation error is: 0.2582564102564103.\n",
      "\n",
      "==================\n",
      "pca_option\n",
      "350\n",
      "The training error is: 0.09338461538461539.\n",
      "The validation error is: 0.2517948717948718.\n"
     ]
    }
   ],
   "source": [
    "for i in pca_options:\n",
    "    print(\"\\n==================\")\n",
    "    print(\"pca_option\")\n",
    "    print(i)\n",
    "    x_train = x_train_pca1[:,0:i]\n",
    "    x_valid = x_valid_pca1[:,0:i]\n",
    "    \n",
    "    model_nNetwork = MLPClassifier(random_state=1, max_iter=1000, alpha = 1.3, activation = 'relu', learning_rate = 'adaptive', hidden_layer_sizes=(200,100,100,50) )\n",
    "    model_nNetwork.fit(x_train, y_train)\n",
    "\n",
    "    y_pred_train = model_nNetwork.predict(x_train)\n",
    "    error = hamming_loss(y_train, y_pred_train)\n",
    "    print('The training error is: ' + str(error) + '.')\n",
    "\n",
    "    y_pred_valid = model_nNetwork.predict(x_valid)\n",
    "    error = hamming_loss(y_valid, y_pred_valid)\n",
    "    print('The validation error is: ' + str(error) + '.')\n",
    "\n",
    "    predicted_score = 1- error\n",
    "    predicted_score"
   ]
  },
  {
   "cell_type": "code",
   "execution_count": 86,
   "metadata": {},
   "outputs": [],
   "source": [
    "pca_options = [203, 207, 213,217]"
   ]
  },
  {
   "cell_type": "code",
   "execution_count": 87,
   "metadata": {},
   "outputs": [
    {
     "name": "stdout",
     "output_type": "stream",
     "text": [
      "\n",
      "==================\n",
      "pca_option\n",
      "203\n",
      "The training error is: 0.09991208791208792.\n",
      "The validation error is: 0.24866666666666667.\n",
      "\n",
      "==================\n",
      "pca_option\n",
      "207\n",
      "The training error is: 0.11312087912087912.\n",
      "The validation error is: 0.26897435897435895.\n",
      "\n",
      "==================\n",
      "pca_option\n",
      "213\n",
      "The training error is: 0.10164835164835165.\n",
      "The validation error is: 0.25451282051282054.\n",
      "\n",
      "==================\n",
      "pca_option\n",
      "217\n",
      "The training error is: 0.10292307692307692.\n",
      "The validation error is: 0.258974358974359.\n"
     ]
    }
   ],
   "source": [
    "for i in pca_options:\n",
    "    print(\"\\n==================\")\n",
    "    print(\"pca_option\")\n",
    "    print(i)\n",
    "    x_train = x_train_pca1[:,0:i]\n",
    "    x_valid = x_valid_pca1[:,0:i]\n",
    "    \n",
    "    model_nNetwork = MLPClassifier(random_state=1, max_iter=1000, alpha = 1.3, activation = 'relu', learning_rate = 'adaptive', hidden_layer_sizes=(200,100,100,50) )\n",
    "    model_nNetwork.fit(x_train, y_train)\n",
    "\n",
    "    y_pred_train = model_nNetwork.predict(x_train)\n",
    "    error = hamming_loss(y_train, y_pred_train)\n",
    "    print('The training error is: ' + str(error) + '.')\n",
    "\n",
    "    y_pred_valid = model_nNetwork.predict(x_valid)\n",
    "    error = hamming_loss(y_valid, y_pred_valid)\n",
    "    print('The validation error is: ' + str(error) + '.')\n",
    "\n",
    "    predicted_score = 1- error\n",
    "    predicted_score"
   ]
  },
  {
   "cell_type": "markdown",
   "metadata": {},
   "source": [
    "## Choosing the best one"
   ]
  },
  {
   "cell_type": "code",
   "execution_count": 107,
   "metadata": {},
   "outputs": [],
   "source": [
    "x_train = x_train_pca1[:,0:203]\n",
    "x_valid = x_valid_pca1[:,0:203]\n",
    "x_test = x_test_pca1[:,0:203]"
   ]
  },
  {
   "cell_type": "code",
   "execution_count": 88,
   "metadata": {},
   "outputs": [
    {
     "name": "stdout",
     "output_type": "stream",
     "text": [
      "The training error is: 0.09490109890109891.\n",
      "The validation error is: 0.2443076923076923.\n"
     ]
    },
    {
     "data": {
      "text/plain": [
       "0.7556923076923077"
      ]
     },
     "execution_count": 88,
     "metadata": {},
     "output_type": "execute_result"
    }
   ],
   "source": [
    "model_nNetwork = MLPClassifier(random_state=1, max_iter=1000, alpha = 1.1, activation = 'relu', learning_rate = 'adaptive', hidden_layer_sizes=(200,100,100,50) )\n",
    "model_nNetwork.fit(x_train, y_train)\n",
    "\n",
    "y_pred_train = model_nNetwork.predict(x_train)\n",
    "error = hamming_loss(y_train, y_pred_train)\n",
    "print('The training error is: ' + str(error) + '.')\n",
    "\n",
    "y_pred_valid = model_nNetwork.predict(x_valid)\n",
    "error = hamming_loss(y_valid, y_pred_valid)\n",
    "print('The validation error is: ' + str(error) + '.')\n",
    "\n",
    "predicted_score = 1- error\n",
    "predicted_score"
   ]
  },
  {
   "cell_type": "code",
   "execution_count": 108,
   "metadata": {},
   "outputs": [
    {
     "data": {
      "text/plain": [
       "1"
      ]
     },
     "execution_count": 108,
     "metadata": {},
     "output_type": "execute_result"
    }
   ],
   "source": [
    "y_pred_test = model_nNetwork.predict(x_test)\n",
    "predictions_as_csv(y_pred_test, \"nNetwork_prediction7\")"
   ]
  },
  {
   "cell_type": "markdown",
   "metadata": {},
   "source": [
    "**Test score:** 0.58644"
   ]
  },
  {
   "cell_type": "code",
   "execution_count": 110,
   "metadata": {},
   "outputs": [
    {
     "name": "stdout",
     "output_type": "stream",
     "text": [
      "The training error is: 0.09784615384615385.\n",
      "The validation error is: 0.2543076923076923.\n"
     ]
    },
    {
     "data": {
      "text/plain": [
       "0.7456923076923077"
      ]
     },
     "execution_count": 110,
     "metadata": {},
     "output_type": "execute_result"
    }
   ],
   "source": [
    "model_nNetwork = MLPClassifier(random_state=1, max_iter=1000, alpha = 1.1, activation = 'relu', learning_rate = 'adaptive', hidden_layer_sizes=(500,500,500) )\n",
    "model_nNetwork.fit(x_train, y_train)\n",
    "\n",
    "y_pred_train = model_nNetwork.predict(x_train)\n",
    "error = hamming_loss(y_train, y_pred_train)\n",
    "\n",
    "print('The training error is: ' + str(error) + '.')\n",
    "\n",
    "y_pred_valid = model_nNetwork.predict(x_valid)\n",
    "error = hamming_loss(y_valid, y_pred_valid)\n",
    "print('The validation error is: ' + str(error) + '.')\n",
    "\n",
    "predicted_score = 1- error\n",
    "predicted_score"
   ]
  },
  {
   "cell_type": "markdown",
   "metadata": {},
   "source": [
    "#"
   ]
  },
  {
   "cell_type": "code",
   "execution_count": 111,
   "metadata": {},
   "outputs": [],
   "source": [
    "from sklearn.datasets import make_classification\n",
    "from sklearn.ensemble import GradientBoostingClassifier\n",
    "from sklearn.model_selection import train_test_split"
   ]
  },
  {
   "cell_type": "code",
   "execution_count": 112,
   "metadata": {},
   "outputs": [
    {
     "name": "stdout",
     "output_type": "stream",
     "text": [
      "The training error is: 0.44147252747252747.\n",
      "The validation error is: 0.5242051282051282.\n"
     ]
    },
    {
     "data": {
      "text/plain": [
       "0.4757948717948718"
      ]
     },
     "execution_count": 112,
     "metadata": {},
     "output_type": "execute_result"
    }
   ],
   "source": [
    "clf = GradientBoostingClassifier(random_state=0)\n",
    "clf.fit(x_train, y_train)\n",
    "\n",
    "\n",
    "y_pred_train = clf.predict(x_train)\n",
    "error = hamming_loss(y_train, y_pred_train)\n",
    "\n",
    "print('The training error is: ' + str(error) + '.')\n",
    "\n",
    "y_pred_valid = clf.predict(x_valid)\n",
    "error = hamming_loss(y_valid, y_pred_valid)\n",
    "print('The validation error is: ' + str(error) + '.')\n",
    "\n",
    "predicted_score = 1- error\n",
    "predicted_score"
   ]
  },
  {
   "cell_type": "code",
   "execution_count": null,
   "metadata": {},
   "outputs": [],
   "source": []
  }
 ],
 "metadata": {
  "kernelspec": {
   "display_name": "Python 3",
   "language": "python",
   "name": "python3"
  },
  "language_info": {
   "codemirror_mode": {
    "name": "ipython",
    "version": 3
   },
   "file_extension": ".py",
   "mimetype": "text/x-python",
   "name": "python",
   "nbconvert_exporter": "python",
   "pygments_lexer": "ipython3",
   "version": "3.8.3"
  }
 },
 "nbformat": 4,
 "nbformat_minor": 4
}
