{
 "cells": [
  {
   "cell_type": "markdown",
   "metadata": {
    "id": "en6oZUhL8FVX"
   },
   "source": [
    "# Additional Neural Network Tests"
   ]
  },
  {
   "cell_type": "code",
   "execution_count": 107,
   "metadata": {
    "id": "or3Aga8_9XAY"
   },
   "outputs": [],
   "source": [
    "import numpy as np\n",
    "import pandas as pd\n",
    "\n",
    "train_data = pd.read_csv('train_data.csv')\n",
    "train_labels = pd.read_csv('train_labels.csv')\n"
   ]
  },
  {
   "cell_type": "code",
   "execution_count": 108,
   "metadata": {
    "id": "PwMxgPXZ9gE4"
   },
   "outputs": [],
   "source": [
    "label_encoded, unique_labels = pd.factorize(train_labels['Font'])\n",
    "labels = pd.DataFrame(label_encoded, columns=['label'])\n",
    "df = pd.concat([train_data, labels], axis = 1)"
   ]
  },
  {
   "cell_type": "code",
   "execution_count": 109,
   "metadata": {
    "id": "IM-H3pVE9gdn"
   },
   "outputs": [],
   "source": [
    "from sklearn.model_selection import train_test_split\n",
    "X = df.iloc[:, :-1]\n",
    "Y = df.iloc[:, -1]\n",
    "x_train_df, x_valid_df, y_train_df, y_valid_df = train_test_split(X, Y, test_size=0.3, random_state = 0)"
   ]
  },
  {
   "cell_type": "code",
   "execution_count": 110,
   "metadata": {
    "id": "ScCMcyCn9gjV"
   },
   "outputs": [],
   "source": [
    "test_data = pd.read_csv('test_data.csv')\n",
    "x_test_df = test_data"
   ]
  },
  {
   "cell_type": "code",
   "execution_count": 111,
   "metadata": {
    "id": "1Z1-GchJ9goz"
   },
   "outputs": [],
   "source": [
    "x_train_pre_norm = np.array(x_train_df)\n",
    "x_valid_pre_norm = np.array(x_valid_df)\n",
    "y_train = np.array(y_train_df)\n",
    "y_valid = np.array(y_valid_df)\n",
    "x_test_pre_norm = np.array(x_test_df)\n",
    "\n",
    "X_np = np.array(X)"
   ]
  },
  {
   "cell_type": "code",
   "execution_count": 112,
   "metadata": {
    "id": "M3Xwg-jh9gtJ"
   },
   "outputs": [],
   "source": [
    "mean = np.sum(X_np, axis = 0) / X_np.shape[0]\n",
    "std = np.std(X_np, axis = 0)"
   ]
  },
  {
   "cell_type": "code",
   "execution_count": 113,
   "metadata": {
    "id": "-bpzYVqq9gxy"
   },
   "outputs": [],
   "source": [
    "def normalize(X, mean, std):\n",
    "    \"\"\"Normalizes a given array X by columns \n",
    "    with the mean and std\"\"\"\n",
    "    X_out = np.zeros(X.shape)\n",
    "    X_out = (X - mean)/std\n",
    "    return X_out "
   ]
  },
  {
   "cell_type": "code",
   "execution_count": 114,
   "metadata": {
    "id": "7H1rUw8C9g19"
   },
   "outputs": [],
   "source": [
    "x_train = normalize(x_train_pre_norm, mean, std)\n",
    "x_valid = normalize(x_valid_pre_norm, mean, std)\n",
    "x_test = normalize(x_test_pre_norm, mean, std)"
   ]
  },
  {
   "cell_type": "code",
   "execution_count": 115,
   "metadata": {
    "id": "vNVopXyO9g5s"
   },
   "outputs": [],
   "source": [
    "def predictions_as_csv(y_pred, file_name):\n",
    "    path = \"\"\n",
    "    status = 0\n",
    "    if len(y_pred) == 29221:\n",
    "        ids = np.arange(1,len(y_pred)+1,1)\n",
    "        pred_label = unique_labels[y_pred]\n",
    "        data = {'ID':ids, 'Font':pred_label} \n",
    "        submission = pd.DataFrame(data)\n",
    "        submission.to_csv(path + file_name + \".csv\", index = False)\n",
    "        status = 1\n",
    "    \n",
    "    return status"
   ]
  },
  {
   "cell_type": "code",
   "execution_count": 116,
   "metadata": {
    "id": "RP_3BUSA96NI"
   },
   "outputs": [],
   "source": [
    "from sklearn.neural_network import MLPClassifier\n",
    "from sklearn.metrics import hamming_loss"
   ]
  },
  {
   "cell_type": "markdown",
   "metadata": {
    "id": "hEASBgTv4k7T"
   },
   "source": [
    "**Prueba 1**"
   ]
  },
  {
   "cell_type": "code",
   "execution_count": null,
   "metadata": {
    "colab": {
     "base_uri": "https://localhost:8080/"
    },
    "id": "AUKBYmgp96nA",
    "outputId": "bc4c2a81-5d2c-4976-ae89-71b5501197e7"
   },
   "outputs": [
    {
     "data": {
      "text/plain": [
       "MLPClassifier(activation='relu', alpha=1, batch_size='auto', beta_1=0.9,\n",
       "              beta_2=0.999, early_stopping=False, epsilon=1e-08,\n",
       "              hidden_layer_sizes=(100,), learning_rate='constant',\n",
       "              learning_rate_init=0.001, max_fun=15000, max_iter=600,\n",
       "              momentum=0.9, n_iter_no_change=10, nesterovs_momentum=True,\n",
       "              power_t=0.5, random_state=1, shuffle=True, solver='adam',\n",
       "              tol=0.0001, validation_fraction=0.1, verbose=False,\n",
       "              warm_start=False)"
      ]
     },
     "execution_count": 51,
     "metadata": {
      "tags": []
     },
     "output_type": "execute_result"
    }
   ],
   "source": [
    "model_nNetwork = MLPClassifier(random_state=1, max_iter=600, alpha = 1, activation = 'relu')\n",
    "model_nNetwork.fit(x_train, y_train)"
   ]
  },
  {
   "cell_type": "code",
   "execution_count": null,
   "metadata": {
    "colab": {
     "base_uri": "https://localhost:8080/"
    },
    "id": "nmBw5nUn1_DS",
    "outputId": "fd73af6b-5d50-430b-a5e1-5e58a2f544ef"
   },
   "outputs": [
    {
     "name": "stdout",
     "output_type": "stream",
     "text": [
      "The training error is: 0.24142857142857144.\n"
     ]
    }
   ],
   "source": [
    "y_pred_train = model_nNetwork.predict(x_train)\n",
    "error = hamming_loss(y_train, y_pred_train)\n",
    "print('The training error is: ' + str(error) + '.')"
   ]
  },
  {
   "cell_type": "code",
   "execution_count": null,
   "metadata": {
    "colab": {
     "base_uri": "https://localhost:8080/"
    },
    "id": "9XoFebJe1_cu",
    "outputId": "25f04be9-1285-48bf-d41c-b9418ec04b83"
   },
   "outputs": [
    {
     "name": "stdout",
     "output_type": "stream",
     "text": [
      "The validation error is: 0.3384615384615385.\n"
     ]
    }
   ],
   "source": [
    "y_pred_valid = model_nNetwork.predict(x_valid)\n",
    "error = hamming_loss(y_valid, y_pred_valid)\n",
    "print('The validation error is: ' + str(error) + '.')"
   ]
  },
  {
   "cell_type": "code",
   "execution_count": null,
   "metadata": {
    "colab": {
     "base_uri": "https://localhost:8080/"
    },
    "id": "RknkJzNU1_ih",
    "outputId": "7d2d929a-1a76-434c-e76a-311284ed662d"
   },
   "outputs": [
    {
     "data": {
      "text/plain": [
       "0.6615384615384615"
      ]
     },
     "execution_count": 54,
     "metadata": {
      "tags": []
     },
     "output_type": "execute_result"
    }
   ],
   "source": [
    "predicted_score = 1- error\n",
    "predicted_score"
   ]
  },
  {
   "cell_type": "code",
   "execution_count": null,
   "metadata": {
    "id": "WnZ4xEhI1_or"
   },
   "outputs": [],
   "source": [
    "y_pred_test = model_nNetwork.predict(x_test)"
   ]
  },
  {
   "cell_type": "code",
   "execution_count": null,
   "metadata": {
    "colab": {
     "base_uri": "https://localhost:8080/"
    },
    "id": "AT-ih3Ev4Ieo",
    "outputId": "11818ec2-dea3-4a81-e87f-8f486657ea68"
   },
   "outputs": [
    {
     "data": {
      "text/plain": [
       "1"
      ]
     },
     "execution_count": 56,
     "metadata": {
      "tags": []
     },
     "output_type": "execute_result"
    }
   ],
   "source": [
    "predictions_as_csv(y_pred_test, \"nNetwork_prediction2\")"
   ]
  },
  {
   "cell_type": "markdown",
   "metadata": {
    "id": "vbHeY20K4wA4"
   },
   "source": [
    "**Prueba 2**"
   ]
  },
  {
   "cell_type": "code",
   "execution_count": null,
   "metadata": {
    "colab": {
     "base_uri": "https://localhost:8080/"
    },
    "id": "k0YFmaPB4wA4",
    "outputId": "feb9c171-8d85-40fa-e4f1-01d0798d90fd"
   },
   "outputs": [
    {
     "data": {
      "text/plain": [
       "MLPClassifier(activation='relu', alpha=0.9, batch_size='auto', beta_1=0.9,\n",
       "              beta_2=0.999, early_stopping=False, epsilon=1e-08,\n",
       "              hidden_layer_sizes=(100,), learning_rate='adaptive',\n",
       "              learning_rate_init=0.001, max_fun=15000, max_iter=600,\n",
       "              momentum=0.9, n_iter_no_change=10, nesterovs_momentum=True,\n",
       "              power_t=0.5, random_state=1, shuffle=True, solver='adam',\n",
       "              tol=0.0001, validation_fraction=0.1, verbose=False,\n",
       "              warm_start=False)"
      ]
     },
     "execution_count": 58,
     "metadata": {
      "tags": []
     },
     "output_type": "execute_result"
    }
   ],
   "source": [
    "model_nNetwork = MLPClassifier(random_state=1, max_iter=600, alpha = 0.9, activation = 'relu', learning_rate = 'adaptive')\n",
    "model_nNetwork.fit(x_train, y_train)"
   ]
  },
  {
   "cell_type": "code",
   "execution_count": null,
   "metadata": {
    "colab": {
     "base_uri": "https://localhost:8080/"
    },
    "id": "-FXnzcnq4wA5",
    "outputId": "eeeaec78-da47-4b0e-cd32-eb406ad52c13"
   },
   "outputs": [
    {
     "name": "stdout",
     "output_type": "stream",
     "text": [
      "The training error is: 0.23241758241758242.\n"
     ]
    }
   ],
   "source": [
    "y_pred_train = model_nNetwork.predict(x_train)\n",
    "error = hamming_loss(y_train, y_pred_train)\n",
    "print('The training error is: ' + str(error) + '.')"
   ]
  },
  {
   "cell_type": "code",
   "execution_count": null,
   "metadata": {
    "colab": {
     "base_uri": "https://localhost:8080/"
    },
    "id": "MEONdbCi4wA5",
    "outputId": "4c2d94f0-6ceb-4340-8471-8b4f4ce5cb36"
   },
   "outputs": [
    {
     "name": "stdout",
     "output_type": "stream",
     "text": [
      "The validation error is: 0.3352307692307692.\n"
     ]
    }
   ],
   "source": [
    "y_pred_valid = model_nNetwork.predict(x_valid)\n",
    "error = hamming_loss(y_valid, y_pred_valid)\n",
    "print('The validation error is: ' + str(error) + '.')"
   ]
  },
  {
   "cell_type": "code",
   "execution_count": null,
   "metadata": {
    "colab": {
     "base_uri": "https://localhost:8080/"
    },
    "id": "-mGqM5BC4wA5",
    "outputId": "35e71bc9-d6dd-432e-ada7-20c02dcfcd26"
   },
   "outputs": [
    {
     "data": {
      "text/plain": [
       "0.6647692307692308"
      ]
     },
     "execution_count": 61,
     "metadata": {
      "tags": []
     },
     "output_type": "execute_result"
    }
   ],
   "source": [
    "predicted_score = 1- error\n",
    "predicted_score"
   ]
  },
  {
   "cell_type": "code",
   "execution_count": null,
   "metadata": {
    "id": "gP9hBg7L5W3g"
   },
   "outputs": [],
   "source": []
  },
  {
   "cell_type": "markdown",
   "metadata": {
    "id": "59By8eSO5YHo"
   },
   "source": [
    "**Prueba 3**"
   ]
  },
  {
   "cell_type": "code",
   "execution_count": null,
   "metadata": {
    "colab": {
     "base_uri": "https://localhost:8080/"
    },
    "id": "wr3PMYuY5YHo",
    "outputId": "803fc87f-1a68-453d-aae7-eb377ecd0281"
   },
   "outputs": [
    {
     "data": {
      "text/plain": [
       "MLPClassifier(activation='relu', alpha=0.9, batch_size='auto', beta_1=0.9,\n",
       "              beta_2=0.999, early_stopping=False, epsilon=1e-08,\n",
       "              hidden_layer_sizes=(100, 30), learning_rate='adaptive',\n",
       "              learning_rate_init=0.001, max_fun=15000, max_iter=600,\n",
       "              momentum=0.9, n_iter_no_change=10, nesterovs_momentum=True,\n",
       "              power_t=0.5, random_state=1, shuffle=True, solver='adam',\n",
       "              tol=0.0001, validation_fraction=0.1, verbose=False,\n",
       "              warm_start=False)"
      ]
     },
     "execution_count": 62,
     "metadata": {
      "tags": []
     },
     "output_type": "execute_result"
    }
   ],
   "source": [
    "model_nNetwork = MLPClassifier(random_state=1, max_iter=600, alpha = 0.9, activation = 'relu', learning_rate = 'adaptive', hidden_layer_sizes=(100,30) )\n",
    "model_nNetwork.fit(x_train, y_train)"
   ]
  },
  {
   "cell_type": "code",
   "execution_count": null,
   "metadata": {
    "colab": {
     "base_uri": "https://localhost:8080/"
    },
    "id": "lwqZeiKl5YHo",
    "outputId": "9b30dee4-8f35-4edb-c143-5a7ba3f8ce74"
   },
   "outputs": [
    {
     "name": "stdout",
     "output_type": "stream",
     "text": [
      "The training error is: 0.18652747252747254.\n"
     ]
    }
   ],
   "source": [
    "y_pred_train = model_nNetwork.predict(x_train)\n",
    "error = hamming_loss(y_train, y_pred_train)\n",
    "print('The training error is: ' + str(error) + '.')"
   ]
  },
  {
   "cell_type": "code",
   "execution_count": null,
   "metadata": {
    "colab": {
     "base_uri": "https://localhost:8080/"
    },
    "id": "C9Kd1a3X5YHo",
    "outputId": "48ba8cf5-b801-4401-b889-f56b1ec4af39"
   },
   "outputs": [
    {
     "name": "stdout",
     "output_type": "stream",
     "text": [
      "The validation error is: 0.30056410256410254.\n"
     ]
    }
   ],
   "source": [
    "y_pred_valid = model_nNetwork.predict(x_valid)\n",
    "error = hamming_loss(y_valid, y_pred_valid)\n",
    "print('The validation error is: ' + str(error) + '.')"
   ]
  },
  {
   "cell_type": "code",
   "execution_count": null,
   "metadata": {
    "colab": {
     "base_uri": "https://localhost:8080/"
    },
    "id": "Uxa6nyAF5YHo",
    "outputId": "275ced2d-52fb-4df3-b0b2-332cf78ee143"
   },
   "outputs": [
    {
     "data": {
      "text/plain": [
       "0.6994358974358974"
      ]
     },
     "execution_count": 65,
     "metadata": {
      "tags": []
     },
     "output_type": "execute_result"
    }
   ],
   "source": [
    "predicted_score = 1- error\n",
    "predicted_score"
   ]
  },
  {
   "cell_type": "code",
   "execution_count": null,
   "metadata": {
    "id": "RGvgbXZl5fFT"
   },
   "outputs": [],
   "source": []
  },
  {
   "cell_type": "markdown",
   "metadata": {
    "id": "IPLKM4La6HPy"
   },
   "source": [
    "**Prueba 4**"
   ]
  },
  {
   "cell_type": "code",
   "execution_count": null,
   "metadata": {
    "colab": {
     "base_uri": "https://localhost:8080/"
    },
    "id": "--ZOcRr26HPy",
    "outputId": "a6030801-4951-436e-9e56-f530ea288c0d"
   },
   "outputs": [
    {
     "data": {
      "text/plain": [
       "MLPClassifier(activation='relu', alpha=0.8, batch_size='auto', beta_1=0.9,\n",
       "              beta_2=0.999, early_stopping=False, epsilon=1e-08,\n",
       "              hidden_layer_sizes=(100, 100), learning_rate='adaptive',\n",
       "              learning_rate_init=0.001, max_fun=15000, max_iter=800,\n",
       "              momentum=0.9, n_iter_no_change=10, nesterovs_momentum=True,\n",
       "              power_t=0.5, random_state=1, shuffle=True, solver='adam',\n",
       "              tol=0.0001, validation_fraction=0.1, verbose=False,\n",
       "              warm_start=False)"
      ]
     },
     "execution_count": 66,
     "metadata": {
      "tags": []
     },
     "output_type": "execute_result"
    }
   ],
   "source": [
    "model_nNetwork = MLPClassifier(random_state=1, max_iter=800, alpha = 0.8, activation = 'relu', learning_rate = 'adaptive', hidden_layer_sizes=(100,100) )\n",
    "model_nNetwork.fit(x_train, y_train)"
   ]
  },
  {
   "cell_type": "code",
   "execution_count": null,
   "metadata": {
    "colab": {
     "base_uri": "https://localhost:8080/"
    },
    "id": "KnG_t8kF6HPz",
    "outputId": "dae8995e-6196-4c8a-a1bb-e199d24d06ac"
   },
   "outputs": [
    {
     "name": "stdout",
     "output_type": "stream",
     "text": [
      "The training error is: 0.172.\n"
     ]
    }
   ],
   "source": [
    "y_pred_train = model_nNetwork.predict(x_train)\n",
    "error = hamming_loss(y_train, y_pred_train)\n",
    "print('The training error is: ' + str(error) + '.')"
   ]
  },
  {
   "cell_type": "code",
   "execution_count": null,
   "metadata": {
    "colab": {
     "base_uri": "https://localhost:8080/"
    },
    "id": "-XEvUNJx6HPz",
    "outputId": "94aab3b4-1596-4e5e-b7a8-81d0d985c81f"
   },
   "outputs": [
    {
     "name": "stdout",
     "output_type": "stream",
     "text": [
      "The validation error is: 0.29117948717948716.\n"
     ]
    }
   ],
   "source": [
    "y_pred_valid = model_nNetwork.predict(x_valid)\n",
    "error = hamming_loss(y_valid, y_pred_valid)\n",
    "print('The validation error is: ' + str(error) + '.')"
   ]
  },
  {
   "cell_type": "code",
   "execution_count": null,
   "metadata": {
    "colab": {
     "base_uri": "https://localhost:8080/"
    },
    "id": "_HiBNMdf6HPz",
    "outputId": "e7c3a278-94c5-4dbf-d13a-5a49c559c3cd"
   },
   "outputs": [
    {
     "data": {
      "text/plain": [
       "0.7088205128205128"
      ]
     },
     "execution_count": 69,
     "metadata": {
      "tags": []
     },
     "output_type": "execute_result"
    }
   ],
   "source": [
    "predicted_score = 1- error\n",
    "predicted_score"
   ]
  },
  {
   "cell_type": "code",
   "execution_count": null,
   "metadata": {
    "id": "cGSdiQ0n6Mi9"
   },
   "outputs": [],
   "source": []
  },
  {
   "cell_type": "markdown",
   "metadata": {
    "id": "tnHi3KvL61ls"
   },
   "source": [
    "**Prueba 5**"
   ]
  },
  {
   "cell_type": "code",
   "execution_count": null,
   "metadata": {
    "colab": {
     "base_uri": "https://localhost:8080/"
    },
    "id": "_FKydZO561ls",
    "outputId": "40aae8ad-9fb5-4ea5-b2ae-08132b83f8be"
   },
   "outputs": [
    {
     "data": {
      "text/plain": [
       "MLPClassifier(activation='relu', alpha=1, batch_size='auto', beta_1=0.9,\n",
       "              beta_2=0.999, early_stopping=False, epsilon=1e-08,\n",
       "              hidden_layer_sizes=(100, 100), learning_rate='adaptive',\n",
       "              learning_rate_init=0.001, max_fun=15000, max_iter=800,\n",
       "              momentum=0.9, n_iter_no_change=10, nesterovs_momentum=True,\n",
       "              power_t=0.5, random_state=1, shuffle=True, solver='adam',\n",
       "              tol=0.0001, validation_fraction=0.1, verbose=False,\n",
       "              warm_start=False)"
      ]
     },
     "execution_count": 70,
     "metadata": {
      "tags": []
     },
     "output_type": "execute_result"
    }
   ],
   "source": [
    "model_nNetwork = MLPClassifier(random_state=1, max_iter=800, alpha = 1, activation = 'relu', learning_rate = 'adaptive', hidden_layer_sizes=(100,100) )\n",
    "model_nNetwork.fit(x_train, y_train)"
   ]
  },
  {
   "cell_type": "code",
   "execution_count": null,
   "metadata": {
    "colab": {
     "base_uri": "https://localhost:8080/"
    },
    "id": "50wFF61Q61ls",
    "outputId": "bbd47537-592a-4005-ec72-c766f1a97ab0"
   },
   "outputs": [
    {
     "name": "stdout",
     "output_type": "stream",
     "text": [
      "The training error is: 0.19424175824175824.\n"
     ]
    }
   ],
   "source": [
    "y_pred_train = model_nNetwork.predict(x_train)\n",
    "error = hamming_loss(y_train, y_pred_train)\n",
    "print('The training error is: ' + str(error) + '.')"
   ]
  },
  {
   "cell_type": "code",
   "execution_count": null,
   "metadata": {
    "colab": {
     "base_uri": "https://localhost:8080/"
    },
    "id": "l3Mn0-6H61lt",
    "outputId": "05356e97-79ca-4a06-8458-aed5e26f8ebf"
   },
   "outputs": [
    {
     "name": "stdout",
     "output_type": "stream",
     "text": [
      "The validation error is: 0.30035897435897435.\n"
     ]
    }
   ],
   "source": [
    "y_pred_valid = model_nNetwork.predict(x_valid)\n",
    "error = hamming_loss(y_valid, y_pred_valid)\n",
    "print('The validation error is: ' + str(error) + '.')"
   ]
  },
  {
   "cell_type": "code",
   "execution_count": null,
   "metadata": {
    "colab": {
     "base_uri": "https://localhost:8080/"
    },
    "id": "1GwAW1z061lt",
    "outputId": "442fffa6-d5be-4bfc-b2fb-dd70822a1230"
   },
   "outputs": [
    {
     "data": {
      "text/plain": [
       "0.6996410256410257"
      ]
     },
     "execution_count": 73,
     "metadata": {
      "tags": []
     },
     "output_type": "execute_result"
    }
   ],
   "source": [
    "predicted_score = 1- error\n",
    "predicted_score"
   ]
  },
  {
   "cell_type": "code",
   "execution_count": null,
   "metadata": {
    "id": "sxKYx1-Z63Tk"
   },
   "outputs": [],
   "source": []
  },
  {
   "cell_type": "markdown",
   "metadata": {
    "id": "PNTRFtyi67at"
   },
   "source": [
    "**Prueba 6**"
   ]
  },
  {
   "cell_type": "code",
   "execution_count": null,
   "metadata": {
    "colab": {
     "base_uri": "https://localhost:8080/"
    },
    "id": "Yx-jp-6p67at",
    "outputId": "c360c4d2-8551-4b66-9caf-a8ef6fc0b03b"
   },
   "outputs": [
    {
     "data": {
      "text/plain": [
       "MLPClassifier(activation='relu', alpha=1, batch_size='auto', beta_1=0.9,\n",
       "              beta_2=0.999, early_stopping=False, epsilon=1e-08,\n",
       "              hidden_layer_sizes=(100, 100, 20), learning_rate='adaptive',\n",
       "              learning_rate_init=0.001, max_fun=15000, max_iter=800,\n",
       "              momentum=0.9, n_iter_no_change=10, nesterovs_momentum=True,\n",
       "              power_t=0.5, random_state=1, shuffle=True, solver='adam',\n",
       "              tol=0.0001, validation_fraction=0.1, verbose=False,\n",
       "              warm_start=False)"
      ]
     },
     "execution_count": 74,
     "metadata": {
      "tags": []
     },
     "output_type": "execute_result"
    }
   ],
   "source": [
    "model_nNetwork = MLPClassifier(random_state=1, max_iter=800, alpha = 1, activation = 'relu', learning_rate = 'adaptive', hidden_layer_sizes=(100,100,20) )\n",
    "model_nNetwork.fit(x_train, y_train)"
   ]
  },
  {
   "cell_type": "code",
   "execution_count": null,
   "metadata": {
    "colab": {
     "base_uri": "https://localhost:8080/"
    },
    "id": "DV_Pm_Ou67at",
    "outputId": "0091ef6c-46f7-4686-ed28-006c62566f03"
   },
   "outputs": [
    {
     "name": "stdout",
     "output_type": "stream",
     "text": [
      "The training error is: 0.16962637362637362.\n"
     ]
    }
   ],
   "source": [
    "y_pred_train = model_nNetwork.predict(x_train)\n",
    "error = hamming_loss(y_train, y_pred_train)\n",
    "print('The training error is: ' + str(error) + '.')"
   ]
  },
  {
   "cell_type": "code",
   "execution_count": null,
   "metadata": {
    "colab": {
     "base_uri": "https://localhost:8080/"
    },
    "id": "VegDN3-t67at",
    "outputId": "1da1f6e8-9502-4066-8fd6-ea16f3a00d95"
   },
   "outputs": [
    {
     "name": "stdout",
     "output_type": "stream",
     "text": [
      "The validation error is: 0.28897435897435897.\n"
     ]
    }
   ],
   "source": [
    "y_pred_valid = model_nNetwork.predict(x_valid)\n",
    "error = hamming_loss(y_valid, y_pred_valid)\n",
    "print('The validation error is: ' + str(error) + '.')"
   ]
  },
  {
   "cell_type": "code",
   "execution_count": null,
   "metadata": {
    "colab": {
     "base_uri": "https://localhost:8080/"
    },
    "id": "otHm_A7N67au",
    "outputId": "71d6b663-80d6-42c8-a623-bfccee875601"
   },
   "outputs": [
    {
     "data": {
      "text/plain": [
       "0.711025641025641"
      ]
     },
     "execution_count": 77,
     "metadata": {
      "tags": []
     },
     "output_type": "execute_result"
    }
   ],
   "source": [
    "predicted_score = 1- error\n",
    "predicted_score"
   ]
  },
  {
   "cell_type": "code",
   "execution_count": null,
   "metadata": {
    "id": "Yvx2926d7A60"
   },
   "outputs": [],
   "source": []
  },
  {
   "cell_type": "markdown",
   "metadata": {
    "id": "dFlZ17DP8On1"
   },
   "source": [
    "**Prueba 7**"
   ]
  },
  {
   "cell_type": "code",
   "execution_count": null,
   "metadata": {
    "colab": {
     "base_uri": "https://localhost:8080/"
    },
    "id": "aWsbAnji8On1",
    "outputId": "c58e7635-4f7a-4eb1-ad1a-9dcd030278d9"
   },
   "outputs": [
    {
     "data": {
      "text/plain": [
       "MLPClassifier(activation='relu', alpha=1, batch_size='auto', beta_1=0.9,\n",
       "              beta_2=0.999, early_stopping=False, epsilon=1e-08,\n",
       "              hidden_layer_sizes=(100, 100, 100), learning_rate='adaptive',\n",
       "              learning_rate_init=0.001, max_fun=15000, max_iter=800,\n",
       "              momentum=0.9, n_iter_no_change=10, nesterovs_momentum=True,\n",
       "              power_t=0.5, random_state=1, shuffle=True, solver='adam',\n",
       "              tol=0.0001, validation_fraction=0.1, verbose=False,\n",
       "              warm_start=False)"
      ]
     },
     "execution_count": 78,
     "metadata": {
      "tags": []
     },
     "output_type": "execute_result"
    }
   ],
   "source": [
    "model_nNetwork = MLPClassifier(random_state=1, max_iter=800, alpha = 1, activation = 'relu', learning_rate = 'adaptive', hidden_layer_sizes=(100,100,100) )\n",
    "model_nNetwork.fit(x_train, y_train)"
   ]
  },
  {
   "cell_type": "code",
   "execution_count": null,
   "metadata": {
    "colab": {
     "base_uri": "https://localhost:8080/"
    },
    "id": "zyzpB99X8On1",
    "outputId": "11aa9cff-b00e-41e3-eee5-5a18bcdd09e6"
   },
   "outputs": [
    {
     "name": "stdout",
     "output_type": "stream",
     "text": [
      "The training error is: 0.16272527472527473.\n"
     ]
    }
   ],
   "source": [
    "y_pred_train = model_nNetwork.predict(x_train)\n",
    "error = hamming_loss(y_train, y_pred_train)\n",
    "print('The training error is: ' + str(error) + '.')"
   ]
  },
  {
   "cell_type": "code",
   "execution_count": null,
   "metadata": {
    "colab": {
     "base_uri": "https://localhost:8080/"
    },
    "id": "poVMjoVw8On1",
    "outputId": "d3d96e32-3583-4123-bbef-530875670557"
   },
   "outputs": [
    {
     "name": "stdout",
     "output_type": "stream",
     "text": [
      "The validation error is: 0.27994871794871795.\n"
     ]
    }
   ],
   "source": [
    "y_pred_valid = model_nNetwork.predict(x_valid)\n",
    "error = hamming_loss(y_valid, y_pred_valid)\n",
    "print('The validation error is: ' + str(error) + '.')"
   ]
  },
  {
   "cell_type": "code",
   "execution_count": null,
   "metadata": {
    "colab": {
     "base_uri": "https://localhost:8080/"
    },
    "id": "HdzMRqo-8On1",
    "outputId": "66842ada-3e8c-4993-b1a7-9560fa8dcac2"
   },
   "outputs": [
    {
     "data": {
      "text/plain": [
       "0.7200512820512821"
      ]
     },
     "execution_count": 81,
     "metadata": {
      "tags": []
     },
     "output_type": "execute_result"
    }
   ],
   "source": [
    "predicted_score = 1- error\n",
    "predicted_score"
   ]
  },
  {
   "cell_type": "code",
   "execution_count": null,
   "metadata": {
    "id": "UZIYk0ke9azr"
   },
   "outputs": [],
   "source": [
    "y_pred_test = model_nNetwork.predict(x_test)"
   ]
  },
  {
   "cell_type": "code",
   "execution_count": null,
   "metadata": {
    "colab": {
     "base_uri": "https://localhost:8080/"
    },
    "id": "qz5q1iHz9azs",
    "outputId": "7636516e-a3db-4830-fd57-0e3caaa5bcf4"
   },
   "outputs": [
    {
     "data": {
      "text/plain": [
       "1"
      ]
     },
     "execution_count": 83,
     "metadata": {
      "tags": []
     },
     "output_type": "execute_result"
    }
   ],
   "source": [
    "predictions_as_csv(y_pred_test, \"nNetwork_prediction4\")"
   ]
  },
  {
   "cell_type": "code",
   "execution_count": null,
   "metadata": {
    "id": "5E4TvlfM9cv7"
   },
   "outputs": [],
   "source": []
  },
  {
   "cell_type": "markdown",
   "metadata": {
    "id": "BYI0XWeo9e1v"
   },
   "source": [
    "**Prueba 8**"
   ]
  },
  {
   "cell_type": "code",
   "execution_count": null,
   "metadata": {
    "colab": {
     "base_uri": "https://localhost:8080/"
    },
    "id": "lepTvvaO9e1v",
    "outputId": "7948bcdb-3798-4ebb-8f87-283a6c1eaa4d"
   },
   "outputs": [
    {
     "data": {
      "text/plain": [
       "MLPClassifier(activation='relu', alpha=1.1, batch_size='auto', beta_1=0.9,\n",
       "              beta_2=0.999, early_stopping=False, epsilon=1e-08,\n",
       "              hidden_layer_sizes=(100, 100, 100, 50), learning_rate='adaptive',\n",
       "              learning_rate_init=0.001, max_fun=15000, max_iter=800,\n",
       "              momentum=0.9, n_iter_no_change=10, nesterovs_momentum=True,\n",
       "              power_t=0.5, random_state=1, shuffle=True, solver='adam',\n",
       "              tol=0.0001, validation_fraction=0.1, verbose=False,\n",
       "              warm_start=False)"
      ]
     },
     "execution_count": 88,
     "metadata": {
      "tags": []
     },
     "output_type": "execute_result"
    }
   ],
   "source": [
    "model_nNetwork = MLPClassifier(random_state=1, max_iter=800, alpha = 1.1, activation = 'relu', learning_rate = 'adaptive', hidden_layer_sizes=(100,100,100,50) )\n",
    "model_nNetwork.fit(x_train, y_train)"
   ]
  },
  {
   "cell_type": "code",
   "execution_count": null,
   "metadata": {
    "colab": {
     "base_uri": "https://localhost:8080/"
    },
    "id": "GynpAJU09e1w",
    "outputId": "e3b5c178-86c3-4d8e-a19a-155d46cffadc"
   },
   "outputs": [
    {
     "name": "stdout",
     "output_type": "stream",
     "text": [
      "The training error is: 0.18092307692307694.\n"
     ]
    }
   ],
   "source": [
    "y_pred_train = model_nNetwork.predict(x_train)\n",
    "error = hamming_loss(y_train, y_pred_train)\n",
    "print('The training error is: ' + str(error) + '.')"
   ]
  },
  {
   "cell_type": "code",
   "execution_count": null,
   "metadata": {
    "colab": {
     "base_uri": "https://localhost:8080/"
    },
    "id": "1_JZKyPS9e1w",
    "outputId": "38000d0a-0f31-480c-8e3b-199c27135155"
   },
   "outputs": [
    {
     "name": "stdout",
     "output_type": "stream",
     "text": [
      "The validation error is: 0.2966153846153846.\n"
     ]
    }
   ],
   "source": [
    "y_pred_valid = model_nNetwork.predict(x_valid)\n",
    "error = hamming_loss(y_valid, y_pred_valid)\n",
    "print('The validation error is: ' + str(error) + '.')"
   ]
  },
  {
   "cell_type": "code",
   "execution_count": null,
   "metadata": {
    "colab": {
     "base_uri": "https://localhost:8080/"
    },
    "id": "GaRH_dqw9e1w",
    "outputId": "8bffe3b9-48ee-44a7-c87c-03ee62bfd7b3"
   },
   "outputs": [
    {
     "data": {
      "text/plain": [
       "0.7033846153846154"
      ]
     },
     "execution_count": 91,
     "metadata": {
      "tags": []
     },
     "output_type": "execute_result"
    }
   ],
   "source": [
    "predicted_score = 1- error\n",
    "predicted_score"
   ]
  },
  {
   "cell_type": "code",
   "execution_count": null,
   "metadata": {
    "id": "d9gysF5U9jup"
   },
   "outputs": [],
   "source": []
  },
  {
   "cell_type": "markdown",
   "metadata": {
    "id": "QtGJj3cx_F7c"
   },
   "source": [
    "**Prueba 9**"
   ]
  },
  {
   "cell_type": "code",
   "execution_count": null,
   "metadata": {
    "colab": {
     "base_uri": "https://localhost:8080/"
    },
    "id": "R7yEjjlz_F7c",
    "outputId": "d5802baa-e084-4537-debb-6aa010c31fe9"
   },
   "outputs": [
    {
     "data": {
      "text/plain": [
       "MLPClassifier(activation='logistic', alpha=1.1, batch_size='auto', beta_1=0.9,\n",
       "              beta_2=0.999, early_stopping=False, epsilon=1e-08,\n",
       "              hidden_layer_sizes=(100, 100, 100, 50), learning_rate='adaptive',\n",
       "              learning_rate_init=0.001, max_fun=15000, max_iter=800,\n",
       "              momentum=0.9, n_iter_no_change=10, nesterovs_momentum=True,\n",
       "              power_t=0.5, random_state=1, shuffle=True, solver='adam',\n",
       "              tol=0.0001, validation_fraction=0.1, verbose=False,\n",
       "              warm_start=False)"
      ]
     },
     "execution_count": 92,
     "metadata": {
      "tags": []
     },
     "output_type": "execute_result"
    }
   ],
   "source": [
    "model_nNetwork = MLPClassifier(random_state=1, max_iter=800, alpha = 1.1, activation = 'logistic', learning_rate = 'adaptive', hidden_layer_sizes=(100,100,100,50) )\n",
    "model_nNetwork.fit(x_train, y_train)"
   ]
  },
  {
   "cell_type": "code",
   "execution_count": null,
   "metadata": {
    "colab": {
     "base_uri": "https://localhost:8080/"
    },
    "id": "HioQ63Sb_F7c",
    "outputId": "06028791-f3b7-44e2-97c0-0280d3711c1a"
   },
   "outputs": [
    {
     "name": "stdout",
     "output_type": "stream",
     "text": [
      "The training error is: 0.72.\n"
     ]
    }
   ],
   "source": [
    "y_pred_train = model_nNetwork.predict(x_train)\n",
    "error = hamming_loss(y_train, y_pred_train)\n",
    "print('The training error is: ' + str(error) + '.')"
   ]
  },
  {
   "cell_type": "code",
   "execution_count": null,
   "metadata": {
    "colab": {
     "base_uri": "https://localhost:8080/"
    },
    "id": "kaqW1iZU_F7d",
    "outputId": "c79d5581-8180-4fd7-ab9e-34db21d1baea"
   },
   "outputs": [
    {
     "name": "stdout",
     "output_type": "stream",
     "text": [
      "The validation error is: 0.7243589743589743.\n"
     ]
    }
   ],
   "source": [
    "y_pred_valid = model_nNetwork.predict(x_valid)\n",
    "error = hamming_loss(y_valid, y_pred_valid)\n",
    "print('The validation error is: ' + str(error) + '.')"
   ]
  },
  {
   "cell_type": "code",
   "execution_count": null,
   "metadata": {
    "colab": {
     "base_uri": "https://localhost:8080/"
    },
    "id": "2W3uOqLB_F7d",
    "outputId": "44123554-522b-4b4d-a21d-225e8f2ac1bd"
   },
   "outputs": [
    {
     "data": {
      "text/plain": [
       "0.27564102564102566"
      ]
     },
     "execution_count": 95,
     "metadata": {
      "tags": []
     },
     "output_type": "execute_result"
    }
   ],
   "source": [
    "predicted_score = 1- error\n",
    "predicted_score"
   ]
  },
  {
   "cell_type": "code",
   "execution_count": null,
   "metadata": {
    "id": "bmCY0SSj_QJI"
   },
   "outputs": [],
   "source": []
  },
  {
   "cell_type": "markdown",
   "metadata": {
    "id": "PbVk4ZHw_Rc9"
   },
   "source": [
    "**Prueba 10**"
   ]
  },
  {
   "cell_type": "code",
   "execution_count": null,
   "metadata": {
    "colab": {
     "base_uri": "https://localhost:8080/"
    },
    "id": "myFMA-Yy_Rc9",
    "outputId": "61dcf0c1-68eb-4104-8d7e-a93468d557f8"
   },
   "outputs": [
    {
     "data": {
      "text/plain": [
       "MLPClassifier(activation='relu', alpha=1.1, batch_size='auto', beta_1=0.9,\n",
       "              beta_2=0.999, early_stopping=False, epsilon=1e-08,\n",
       "              hidden_layer_sizes=(200, 100, 100, 50), learning_rate='adaptive',\n",
       "              learning_rate_init=0.001, max_fun=15000, max_iter=1000,\n",
       "              momentum=0.9, n_iter_no_change=10, nesterovs_momentum=True,\n",
       "              power_t=0.5, random_state=1, shuffle=True, solver='adam',\n",
       "              tol=0.0001, validation_fraction=0.1, verbose=False,\n",
       "              warm_start=False)"
      ]
     },
     "execution_count": 96,
     "metadata": {
      "tags": []
     },
     "output_type": "execute_result"
    }
   ],
   "source": [
    "model_nNetwork = MLPClassifier(random_state=1, max_iter=1000, alpha = 1.1, activation = 'relu', learning_rate = 'adaptive', hidden_layer_sizes=(200,100,100,50) )\n",
    "model_nNetwork.fit(x_train, y_train)"
   ]
  },
  {
   "cell_type": "code",
   "execution_count": null,
   "metadata": {
    "colab": {
     "base_uri": "https://localhost:8080/"
    },
    "id": "2tVK-LG-_Rc-",
    "outputId": "0a26cc7b-5d46-4529-abbb-9166c09319bd"
   },
   "outputs": [
    {
     "name": "stdout",
     "output_type": "stream",
     "text": [
      "The training error is: 0.1394065934065934.\n"
     ]
    }
   ],
   "source": [
    "y_pred_train = model_nNetwork.predict(x_train)\n",
    "error = hamming_loss(y_train, y_pred_train)\n",
    "print('The training error is: ' + str(error) + '.')"
   ]
  },
  {
   "cell_type": "code",
   "execution_count": null,
   "metadata": {
    "colab": {
     "base_uri": "https://localhost:8080/"
    },
    "id": "U-cd_w6w_Rc-",
    "outputId": "22da4d0b-921e-4192-8fe9-e28b8a7fa1ad"
   },
   "outputs": [
    {
     "name": "stdout",
     "output_type": "stream",
     "text": [
      "The validation error is: 0.262.\n"
     ]
    }
   ],
   "source": [
    "y_pred_valid = model_nNetwork.predict(x_valid)\n",
    "error = hamming_loss(y_valid, y_pred_valid)\n",
    "print('The validation error is: ' + str(error) + '.')"
   ]
  },
  {
   "cell_type": "code",
   "execution_count": null,
   "metadata": {
    "colab": {
     "base_uri": "https://localhost:8080/"
    },
    "id": "DEd2Nsrq_Rc-",
    "outputId": "8dae50db-18b3-495f-aeeb-ba1de7be2a72"
   },
   "outputs": [
    {
     "data": {
      "text/plain": [
       "0.738"
      ]
     },
     "execution_count": 99,
     "metadata": {
      "tags": []
     },
     "output_type": "execute_result"
    }
   ],
   "source": [
    "predicted_score = 1- error\n",
    "predicted_score"
   ]
  },
  {
   "cell_type": "code",
   "execution_count": null,
   "metadata": {
    "id": "lT_MefNE_ZMH"
   },
   "outputs": [],
   "source": []
  },
  {
   "cell_type": "markdown",
   "metadata": {
    "id": "l6fcAMyh_a99"
   },
   "source": [
    "**Prueba 11**"
   ]
  },
  {
   "cell_type": "code",
   "execution_count": null,
   "metadata": {
    "colab": {
     "base_uri": "https://localhost:8080/"
    },
    "id": "sCLHo9Oz_a99",
    "outputId": "e13fa1a1-fa6c-437e-e427-2b4261cfda13"
   },
   "outputs": [
    {
     "data": {
      "text/plain": [
       "MLPClassifier(activation='logistic', alpha=1.1, batch_size='auto', beta_1=0.9,\n",
       "              beta_2=0.999, early_stopping=False, epsilon=1e-08,\n",
       "              hidden_layer_sizes=(200, 100, 100, 50), learning_rate='adaptive',\n",
       "              learning_rate_init=0.001, max_fun=15000, max_iter=1000,\n",
       "              momentum=0.9, n_iter_no_change=10, nesterovs_momentum=True,\n",
       "              power_t=0.5, random_state=1, shuffle=True, solver='adam',\n",
       "              tol=0.0001, validation_fraction=0.1, verbose=False,\n",
       "              warm_start=False)"
      ]
     },
     "execution_count": 100,
     "metadata": {
      "tags": []
     },
     "output_type": "execute_result"
    }
   ],
   "source": [
    "model_nNetwork = MLPClassifier(random_state=1, max_iter=1000, alpha = 1.1, activation = 'logistic', learning_rate = 'adaptive', hidden_layer_sizes=(200,100,100,50) )\n",
    "model_nNetwork.fit(x_train, y_train)"
   ]
  },
  {
   "cell_type": "code",
   "execution_count": null,
   "metadata": {
    "colab": {
     "base_uri": "https://localhost:8080/"
    },
    "id": "8yTYL9hh_a99",
    "outputId": "81666b80-f2a3-434b-81d3-d5272dfff9ae"
   },
   "outputs": [
    {
     "name": "stdout",
     "output_type": "stream",
     "text": [
      "The training error is: 0.72.\n"
     ]
    }
   ],
   "source": [
    "y_pred_train = model_nNetwork.predict(x_train)\n",
    "error = hamming_loss(y_train, y_pred_train)\n",
    "print('The training error is: ' + str(error) + '.')"
   ]
  },
  {
   "cell_type": "code",
   "execution_count": null,
   "metadata": {
    "colab": {
     "base_uri": "https://localhost:8080/"
    },
    "id": "UNG7KSu-_a99",
    "outputId": "fbe4f261-b60e-4d96-8dc7-4185c9a86795"
   },
   "outputs": [
    {
     "name": "stdout",
     "output_type": "stream",
     "text": [
      "The validation error is: 0.7243589743589743.\n"
     ]
    }
   ],
   "source": [
    "y_pred_valid = model_nNetwork.predict(x_valid)\n",
    "error = hamming_loss(y_valid, y_pred_valid)\n",
    "print('The validation error is: ' + str(error) + '.')"
   ]
  },
  {
   "cell_type": "code",
   "execution_count": null,
   "metadata": {
    "colab": {
     "base_uri": "https://localhost:8080/"
    },
    "id": "Z5xlv6Pb_a9-",
    "outputId": "2644951e-bc1f-494f-a1b3-c47e0614c31c"
   },
   "outputs": [
    {
     "data": {
      "text/plain": [
       "0.27564102564102566"
      ]
     },
     "execution_count": 103,
     "metadata": {
      "tags": []
     },
     "output_type": "execute_result"
    }
   ],
   "source": [
    "predicted_score = 1- error\n",
    "predicted_score"
   ]
  },
  {
   "cell_type": "code",
   "execution_count": null,
   "metadata": {
    "id": "rpYjIU_u_fAK"
   },
   "outputs": [],
   "source": []
  },
  {
   "cell_type": "markdown",
   "metadata": {
    "id": "01TJ6Hd4AmHm"
   },
   "source": [
    "**Prueba 12**"
   ]
  },
  {
   "cell_type": "code",
   "execution_count": null,
   "metadata": {
    "colab": {
     "base_uri": "https://localhost:8080/"
    },
    "id": "zWAyQQH0AmHm",
    "outputId": "d1ca69b9-5aaa-4e56-ef88-1b7e4b244b37"
   },
   "outputs": [
    {
     "data": {
      "text/plain": [
       "MLPClassifier(activation='tanh', alpha=1.1, batch_size='auto', beta_1=0.9,\n",
       "              beta_2=0.999, early_stopping=False, epsilon=1e-08,\n",
       "              hidden_layer_sizes=(200, 100, 100, 50), learning_rate='adaptive',\n",
       "              learning_rate_init=0.001, max_fun=15000, max_iter=1000,\n",
       "              momentum=0.9, n_iter_no_change=10, nesterovs_momentum=True,\n",
       "              power_t=0.5, random_state=1, shuffle=True, solver='adam',\n",
       "              tol=0.0001, validation_fraction=0.1, verbose=False,\n",
       "              warm_start=False)"
      ]
     },
     "execution_count": 104,
     "metadata": {
      "tags": []
     },
     "output_type": "execute_result"
    }
   ],
   "source": [
    "model_nNetwork = MLPClassifier(random_state=1, max_iter=1000, alpha = 1.1, activation = 'tanh', learning_rate = 'adaptive', hidden_layer_sizes=(200,100,100,50) )\n",
    "model_nNetwork.fit(x_train, y_train)"
   ]
  },
  {
   "cell_type": "code",
   "execution_count": null,
   "metadata": {
    "colab": {
     "base_uri": "https://localhost:8080/"
    },
    "id": "7OQXrFu-AmHm",
    "outputId": "620c47be-7a26-45ea-d9bc-79e3e171adc0"
   },
   "outputs": [
    {
     "name": "stdout",
     "output_type": "stream",
     "text": [
      "The training error is: 0.182.\n"
     ]
    }
   ],
   "source": [
    "y_pred_train = model_nNetwork.predict(x_train)\n",
    "error = hamming_loss(y_train, y_pred_train)\n",
    "print('The training error is: ' + str(error) + '.')"
   ]
  },
  {
   "cell_type": "code",
   "execution_count": null,
   "metadata": {
    "colab": {
     "base_uri": "https://localhost:8080/"
    },
    "id": "Uiigcov1AmHm",
    "outputId": "028d3811-184d-4ebd-c9c9-45e08b6a722a"
   },
   "outputs": [
    {
     "name": "stdout",
     "output_type": "stream",
     "text": [
      "The validation error is: 0.31251282051282053.\n"
     ]
    }
   ],
   "source": [
    "y_pred_valid = model_nNetwork.predict(x_valid)\n",
    "error = hamming_loss(y_valid, y_pred_valid)\n",
    "print('The validation error is: ' + str(error) + '.')"
   ]
  },
  {
   "cell_type": "code",
   "execution_count": null,
   "metadata": {
    "colab": {
     "base_uri": "https://localhost:8080/"
    },
    "id": "OOo2ch5cAmHn",
    "outputId": "6ff843e6-db2c-452d-87aa-bce1dfdcfc40"
   },
   "outputs": [
    {
     "data": {
      "text/plain": [
       "0.6874871794871795"
      ]
     },
     "execution_count": 107,
     "metadata": {
      "tags": []
     },
     "output_type": "execute_result"
    }
   ],
   "source": [
    "predicted_score = 1- error\n",
    "predicted_score"
   ]
  },
  {
   "cell_type": "code",
   "execution_count": null,
   "metadata": {
    "id": "zeOq1i2SApap"
   },
   "outputs": [],
   "source": []
  },
  {
   "cell_type": "markdown",
   "metadata": {
    "id": "Y_koP8XKC_Cf"
   },
   "source": [
    "**Prueba 13**"
   ]
  },
  {
   "cell_type": "code",
   "execution_count": null,
   "metadata": {
    "colab": {
     "base_uri": "https://localhost:8080/"
    },
    "id": "7dzHYnIOC_Cf",
    "outputId": "b175941f-50fe-4309-d739-58fc707f1055"
   },
   "outputs": [
    {
     "data": {
      "text/plain": [
       "MLPClassifier(activation='relu', alpha=1.1, batch_size='auto', beta_1=0.9,\n",
       "              beta_2=0.999, early_stopping=False, epsilon=1e-08,\n",
       "              hidden_layer_sizes=(100,), learning_rate='constant',\n",
       "              learning_rate_init=0.001, max_fun=15000, max_iter=1000,\n",
       "              momentum=0.9, n_iter_no_change=10, nesterovs_momentum=True,\n",
       "              power_t=0.5, random_state=1, shuffle=True, solver='adam',\n",
       "              tol=0.0001, validation_fraction=0.1, verbose=False,\n",
       "              warm_start=False)"
      ]
     },
     "execution_count": 108,
     "metadata": {
      "tags": []
     },
     "output_type": "execute_result"
    }
   ],
   "source": [
    "model_nNetwork = MLPClassifier(random_state=1, max_iter=1000, alpha = 1.1)\n",
    "model_nNetwork.fit(x_train, y_train)"
   ]
  },
  {
   "cell_type": "code",
   "execution_count": null,
   "metadata": {
    "colab": {
     "base_uri": "https://localhost:8080/"
    },
    "id": "27wfDKkhC_Cf",
    "outputId": "6cf81cd3-501d-4245-bb25-985ff362b8c1"
   },
   "outputs": [
    {
     "name": "stdout",
     "output_type": "stream",
     "text": [
      "The training error is: 0.24863736263736264.\n"
     ]
    }
   ],
   "source": [
    "y_pred_train = model_nNetwork.predict(x_train)\n",
    "error = hamming_loss(y_train, y_pred_train)\n",
    "print('The training error is: ' + str(error) + '.')"
   ]
  },
  {
   "cell_type": "code",
   "execution_count": null,
   "metadata": {
    "colab": {
     "base_uri": "https://localhost:8080/"
    },
    "id": "tZlZPW4xC_Cf",
    "outputId": "095de38f-cb64-46c4-d1f2-d044efe72648"
   },
   "outputs": [
    {
     "name": "stdout",
     "output_type": "stream",
     "text": [
      "The validation error is: 0.3422051282051282.\n"
     ]
    }
   ],
   "source": [
    "y_pred_valid = model_nNetwork.predict(x_valid)\n",
    "error = hamming_loss(y_valid, y_pred_valid)\n",
    "print('The validation error is: ' + str(error) + '.')"
   ]
  },
  {
   "cell_type": "code",
   "execution_count": null,
   "metadata": {
    "colab": {
     "base_uri": "https://localhost:8080/"
    },
    "id": "iF7j5PvJC_Cf",
    "outputId": "af1904af-556a-46b0-bd8f-3d6248bba421"
   },
   "outputs": [
    {
     "data": {
      "text/plain": [
       "0.6577948717948718"
      ]
     },
     "execution_count": 111,
     "metadata": {
      "tags": []
     },
     "output_type": "execute_result"
    }
   ],
   "source": [
    "predicted_score = 1- error\n",
    "predicted_score"
   ]
  },
  {
   "cell_type": "code",
   "execution_count": null,
   "metadata": {
    "id": "6gC4XIueDEYI"
   },
   "outputs": [],
   "source": []
  },
  {
   "cell_type": "markdown",
   "metadata": {
    "id": "nvJR0483DMhd"
   },
   "source": [
    "**Prueba 14**"
   ]
  },
  {
   "cell_type": "code",
   "execution_count": 31,
   "metadata": {
    "colab": {
     "base_uri": "https://localhost:8080/"
    },
    "id": "I-evJeIIDMhd",
    "outputId": "191aec5e-aff8-4e5e-c9fb-2590b95b3893"
   },
   "outputs": [
    {
     "name": "stderr",
     "output_type": "stream",
     "text": [
      "/usr/local/lib/python3.6/dist-packages/sklearn/neural_network/_multilayer_perceptron.py:573: UserWarning: Training interrupted by user.\n",
      "  warnings.warn(\"Training interrupted by user.\")\n"
     ]
    },
    {
     "data": {
      "text/plain": [
       "MLPClassifier(activation='relu', alpha=1.2, batch_size='auto', beta_1=0.9,\n",
       "              beta_2=0.999, early_stopping=False, epsilon=1e-08,\n",
       "              hidden_layer_sizes=(200, 100, 100, 50), learning_rate='adaptive',\n",
       "              learning_rate_init=0.001, max_fun=15000, max_iter=1000,\n",
       "              momentum=0.9, n_iter_no_change=10, nesterovs_momentum=True,\n",
       "              power_t=0.5, random_state=1, shuffle=True, solver='adam',\n",
       "              tol=0.0001, validation_fraction=0.1, verbose=False,\n",
       "              warm_start=False)"
      ]
     },
     "execution_count": 31,
     "metadata": {
      "tags": []
     },
     "output_type": "execute_result"
    }
   ],
   "source": [
    "model_nNetwork = MLPClassifier(random_state=1, max_iter=1000, alpha = 1.2, activation = 'relu', learning_rate = 'adaptive', hidden_layer_sizes=(200,100,100,50) )\n",
    "model_nNetwork.fit(x_train, y_train)"
   ]
  },
  {
   "cell_type": "code",
   "execution_count": 32,
   "metadata": {
    "colab": {
     "base_uri": "https://localhost:8080/"
    },
    "id": "b72MAXz6DMhf",
    "outputId": "cd00cf24-a720-4e34-c305-1a64a4102d8b"
   },
   "outputs": [
    {
     "name": "stdout",
     "output_type": "stream",
     "text": [
      "The training error is: 0.17395604395604394.\n"
     ]
    }
   ],
   "source": [
    "y_pred_train = model_nNetwork.predict(x_train)\n",
    "error = hamming_loss(y_train, y_pred_train)\n",
    "print('The training error is: ' + str(error) + '.')"
   ]
  },
  {
   "cell_type": "code",
   "execution_count": 33,
   "metadata": {
    "colab": {
     "base_uri": "https://localhost:8080/"
    },
    "id": "8xqJPdwcDMhf",
    "outputId": "105f7e99-c10a-48ca-b3b1-2cc358d60f05"
   },
   "outputs": [
    {
     "name": "stdout",
     "output_type": "stream",
     "text": [
      "The validation error is: 0.2955384615384615.\n"
     ]
    }
   ],
   "source": [
    "y_pred_valid = model_nNetwork.predict(x_valid)\n",
    "error = hamming_loss(y_valid, y_pred_valid)\n",
    "print('The validation error is: ' + str(error) + '.')"
   ]
  },
  {
   "cell_type": "code",
   "execution_count": 34,
   "metadata": {
    "colab": {
     "base_uri": "https://localhost:8080/"
    },
    "id": "fy5GXrrtDMhf",
    "outputId": "b0c741a5-f5b9-4df3-8485-800ad6e4aa0d"
   },
   "outputs": [
    {
     "data": {
      "text/plain": [
       "0.7044615384615385"
      ]
     },
     "execution_count": 34,
     "metadata": {
      "tags": []
     },
     "output_type": "execute_result"
    }
   ],
   "source": [
    "predicted_score = 1- error\n",
    "predicted_score"
   ]
  },
  {
   "cell_type": "markdown",
   "metadata": {
    "id": "TpYON-0kDkQT"
   },
   "source": [
    "**Prueba 15**"
   ]
  },
  {
   "cell_type": "code",
   "execution_count": 35,
   "metadata": {
    "colab": {
     "base_uri": "https://localhost:8080/"
    },
    "id": "n03QdpMEDkQT",
    "outputId": "a266971e-7e06-4a6d-f0ac-392bd9801d9d"
   },
   "outputs": [
    {
     "name": "stderr",
     "output_type": "stream",
     "text": [
      "/usr/local/lib/python3.6/dist-packages/sklearn/neural_network/_multilayer_perceptron.py:573: UserWarning: Training interrupted by user.\n",
      "  warnings.warn(\"Training interrupted by user.\")\n"
     ]
    },
    {
     "data": {
      "text/plain": [
       "MLPClassifier(activation='relu', alpha=1.3, batch_size='auto', beta_1=0.9,\n",
       "              beta_2=0.999, early_stopping=False, epsilon=1e-08,\n",
       "              hidden_layer_sizes=(200, 200, 100, 100, 50),\n",
       "              learning_rate='adaptive', learning_rate_init=0.001, max_fun=15000,\n",
       "              max_iter=1500, momentum=0.9, n_iter_no_change=10,\n",
       "              nesterovs_momentum=True, power_t=0.5, random_state=1,\n",
       "              shuffle=True, solver='adam', tol=0.0001, validation_fraction=0.1,\n",
       "              verbose=False, warm_start=False)"
      ]
     },
     "execution_count": 35,
     "metadata": {
      "tags": []
     },
     "output_type": "execute_result"
    }
   ],
   "source": [
    "model_nNetwork = MLPClassifier(random_state=1, max_iter=1500, alpha = 1.3, activation = 'relu', learning_rate = 'adaptive', hidden_layer_sizes=(200,200,100,100, 50) )\n",
    "model_nNetwork.fit(x_train, y_train)"
   ]
  },
  {
   "cell_type": "code",
   "execution_count": 36,
   "metadata": {
    "colab": {
     "base_uri": "https://localhost:8080/"
    },
    "id": "JdsgQ9HnDkQU",
    "outputId": "a894de2c-57d3-4910-d576-ac142de897a7"
   },
   "outputs": [
    {
     "name": "stdout",
     "output_type": "stream",
     "text": [
      "The training error is: 0.4185054945054945.\n"
     ]
    }
   ],
   "source": [
    "y_pred_train = model_nNetwork.predict(x_train)\n",
    "error = hamming_loss(y_train, y_pred_train)\n",
    "print('The training error is: ' + str(error) + '.')"
   ]
  },
  {
   "cell_type": "code",
   "execution_count": 37,
   "metadata": {
    "colab": {
     "base_uri": "https://localhost:8080/"
    },
    "id": "eOH3YSaHDkQU",
    "outputId": "3469e069-3700-4608-cbbe-28e79f3dab06"
   },
   "outputs": [
    {
     "name": "stdout",
     "output_type": "stream",
     "text": [
      "The validation error is: 0.4585128205128205.\n"
     ]
    }
   ],
   "source": [
    "y_pred_valid = model_nNetwork.predict(x_valid)\n",
    "error = hamming_loss(y_valid, y_pred_valid)\n",
    "print('The validation error is: ' + str(error) + '.')"
   ]
  },
  {
   "cell_type": "code",
   "execution_count": 38,
   "metadata": {
    "colab": {
     "base_uri": "https://localhost:8080/"
    },
    "id": "FTnp9qvGDkQU",
    "outputId": "57ce77e3-c47e-4b6c-b77a-a478c5ffadb5"
   },
   "outputs": [
    {
     "data": {
      "text/plain": [
       "0.5414871794871795"
      ]
     },
     "execution_count": 38,
     "metadata": {
      "tags": []
     },
     "output_type": "execute_result"
    }
   ],
   "source": [
    "predicted_score = 1- error\n",
    "predicted_score"
   ]
  },
  {
   "cell_type": "markdown",
   "metadata": {
    "id": "mI4gGlfnTsIl"
   },
   "source": [
    "# PCA"
   ]
  },
  {
   "cell_type": "code",
   "execution_count": 117,
   "metadata": {
    "id": "cm5gA2a7UI1V"
   },
   "outputs": [],
   "source": [
    "from sklearn.neural_network import MLPClassifier\n",
    "from sklearn.metrics import hamming_loss\n",
    "\n",
    "from sklearn.decomposition import PCA\n",
    "\n",
    "pca = PCA()\n",
    "x_train_pca1 = pca.fit_transform(x_train)\n",
    "x_valid_pca1 = pca.transform(x_valid)\n",
    "x_test_pca1 = pca.transform(x_test)\n",
    "\n",
    "x_train = x_train_pca1[:,0:100]\n",
    "x_valid = x_valid_pca1[:,0:100]\n",
    "x_test = x_test_pca1[:,0:100]\n"
   ]
  },
  {
   "cell_type": "markdown",
   "metadata": {
    "id": "4tiQvwVeUhTL"
   },
   "source": [
    "**Prueba 16**"
   ]
  },
  {
   "cell_type": "code",
   "execution_count": 118,
   "metadata": {
    "colab": {
     "base_uri": "https://localhost:8080/"
    },
    "id": "ca-KAQXbUUrb",
    "outputId": "c40b14d1-41a2-4e3d-8c7b-d96ff181f619"
   },
   "outputs": [
    {
     "data": {
      "text/plain": [
       "MLPClassifier(activation='relu', alpha=1.2, batch_size='auto', beta_1=0.9,\n",
       "              beta_2=0.999, early_stopping=False, epsilon=1e-08,\n",
       "              hidden_layer_sizes=(200, 100, 100, 50), learning_rate='adaptive',\n",
       "              learning_rate_init=0.001, max_fun=15000, max_iter=1000,\n",
       "              momentum=0.9, n_iter_no_change=10, nesterovs_momentum=True,\n",
       "              power_t=0.5, random_state=1, shuffle=True, solver='adam',\n",
       "              tol=0.0001, validation_fraction=0.1, verbose=False,\n",
       "              warm_start=False)"
      ]
     },
     "execution_count": 118,
     "metadata": {
      "tags": []
     },
     "output_type": "execute_result"
    }
   ],
   "source": [
    "model_nNetwork = MLPClassifier(random_state=1, max_iter=1000, alpha = 1.2, activation = 'relu', learning_rate = 'adaptive', hidden_layer_sizes=(200,100,100,50) )\n",
    "model_nNetwork.fit(x_train, y_train)"
   ]
  },
  {
   "cell_type": "code",
   "execution_count": 119,
   "metadata": {
    "colab": {
     "base_uri": "https://localhost:8080/"
    },
    "id": "rwW1kA38UUrl",
    "outputId": "48fc42d1-e478-4dba-9261-57fe2aa6f0ec"
   },
   "outputs": [
    {
     "name": "stdout",
     "output_type": "stream",
     "text": [
      "The training error is: 0.14514285714285713.\n"
     ]
    }
   ],
   "source": [
    "y_pred_train = model_nNetwork.predict(x_train)\n",
    "error = hamming_loss(y_train, y_pred_train)\n",
    "print('The training error is: ' + str(error) + '.')"
   ]
  },
  {
   "cell_type": "code",
   "execution_count": 120,
   "metadata": {
    "colab": {
     "base_uri": "https://localhost:8080/"
    },
    "id": "ZrzxXewUUUrm",
    "outputId": "0c6ab82c-0ddd-4543-ee99-4ef134b2681e"
   },
   "outputs": [
    {
     "name": "stdout",
     "output_type": "stream",
     "text": [
      "The validation error is: 0.28307692307692306.\n"
     ]
    }
   ],
   "source": [
    "y_pred_valid = model_nNetwork.predict(x_valid)\n",
    "error = hamming_loss(y_valid, y_pred_valid)\n",
    "print('The validation error is: ' + str(error) + '.')"
   ]
  },
  {
   "cell_type": "code",
   "execution_count": 121,
   "metadata": {
    "colab": {
     "base_uri": "https://localhost:8080/"
    },
    "id": "x4QpP_SFUUrn",
    "outputId": "b485654d-4648-4c88-d4fd-6d001245a1cb"
   },
   "outputs": [
    {
     "data": {
      "text/plain": [
       "0.716923076923077"
      ]
     },
     "execution_count": 121,
     "metadata": {
      "tags": []
     },
     "output_type": "execute_result"
    }
   ],
   "source": [
    "predicted_score = 1- error\n",
    "predicted_score"
   ]
  },
  {
   "cell_type": "markdown",
   "metadata": {
    "id": "sKMOIhFCUUrn"
   },
   "source": [
    "**Prueba 17**"
   ]
  },
  {
   "cell_type": "code",
   "execution_count": 122,
   "metadata": {
    "colab": {
     "base_uri": "https://localhost:8080/"
    },
    "id": "RdLqDO-3UUro",
    "outputId": "cb20513d-935f-43e6-f153-e0b1bcf0e166"
   },
   "outputs": [
    {
     "data": {
      "text/plain": [
       "MLPClassifier(activation='relu', alpha=1.3, batch_size='auto', beta_1=0.9,\n",
       "              beta_2=0.999, early_stopping=False, epsilon=1e-08,\n",
       "              hidden_layer_sizes=(200, 200, 100, 100, 50),\n",
       "              learning_rate='adaptive', learning_rate_init=0.001, max_fun=15000,\n",
       "              max_iter=1500, momentum=0.9, n_iter_no_change=10,\n",
       "              nesterovs_momentum=True, power_t=0.5, random_state=1,\n",
       "              shuffle=True, solver='adam', tol=0.0001, validation_fraction=0.1,\n",
       "              verbose=False, warm_start=False)"
      ]
     },
     "execution_count": 122,
     "metadata": {
      "tags": []
     },
     "output_type": "execute_result"
    }
   ],
   "source": [
    "model_nNetwork = MLPClassifier(random_state=1, max_iter=1500, alpha = 1.3, activation = 'relu', learning_rate = 'adaptive', hidden_layer_sizes=(200,200,100,100, 50) )\n",
    "model_nNetwork.fit(x_train, y_train)"
   ]
  },
  {
   "cell_type": "code",
   "execution_count": 123,
   "metadata": {
    "colab": {
     "base_uri": "https://localhost:8080/"
    },
    "id": "aBFWnNuxUUro",
    "outputId": "d999c24b-3430-45f6-8514-ee74cc009f0f"
   },
   "outputs": [
    {
     "name": "stdout",
     "output_type": "stream",
     "text": [
      "The training error is: 0.12789010989010988.\n"
     ]
    }
   ],
   "source": [
    "y_pred_train = model_nNetwork.predict(x_train)\n",
    "error = hamming_loss(y_train, y_pred_train)\n",
    "print('The training error is: ' + str(error) + '.')"
   ]
  },
  {
   "cell_type": "code",
   "execution_count": 124,
   "metadata": {
    "colab": {
     "base_uri": "https://localhost:8080/"
    },
    "id": "YioF4QWeUUro",
    "outputId": "aebf89ed-56e6-465e-86d6-82e4af47f313"
   },
   "outputs": [
    {
     "name": "stdout",
     "output_type": "stream",
     "text": [
      "The validation error is: 0.27302564102564103.\n"
     ]
    }
   ],
   "source": [
    "y_pred_valid = model_nNetwork.predict(x_valid)\n",
    "error = hamming_loss(y_valid, y_pred_valid)\n",
    "print('The validation error is: ' + str(error) + '.')"
   ]
  },
  {
   "cell_type": "code",
   "execution_count": 125,
   "metadata": {
    "colab": {
     "base_uri": "https://localhost:8080/"
    },
    "id": "K0RbVy0rUUrp",
    "outputId": "03b2f974-75ff-42cd-b517-24a9979216a2"
   },
   "outputs": [
    {
     "data": {
      "text/plain": [
       "0.7269743589743589"
      ]
     },
     "execution_count": 125,
     "metadata": {
      "tags": []
     },
     "output_type": "execute_result"
    }
   ],
   "source": [
    "predicted_score = 1- error\n",
    "predicted_score"
   ]
  },
  {
   "cell_type": "code",
   "execution_count": 125,
   "metadata": {
    "id": "mJ3e0DvTUsMG"
   },
   "outputs": [],
   "source": []
  },
  {
   "cell_type": "markdown",
   "metadata": {
    "id": "JLBwshB-WfMW"
   },
   "source": [
    "**Prueba 18**"
   ]
  },
  {
   "cell_type": "code",
   "execution_count": 126,
   "metadata": {
    "colab": {
     "base_uri": "https://localhost:8080/"
    },
    "id": "iqy8nyIlWfMa",
    "outputId": "caa7e8b9-ac14-4e91-f43e-bd2791c149d8"
   },
   "outputs": [
    {
     "data": {
      "text/plain": [
       "MLPClassifier(activation='relu', alpha=2, batch_size='auto', beta_1=0.9,\n",
       "              beta_2=0.999, early_stopping=False, epsilon=1e-08,\n",
       "              hidden_layer_sizes=(200, 100, 100, 50), learning_rate='adaptive',\n",
       "              learning_rate_init=0.001, max_fun=15000, max_iter=1000,\n",
       "              momentum=0.9, n_iter_no_change=10, nesterovs_momentum=True,\n",
       "              power_t=0.5, random_state=1, shuffle=True, solver='adam',\n",
       "              tol=0.0001, validation_fraction=0.1, verbose=False,\n",
       "              warm_start=False)"
      ]
     },
     "execution_count": 126,
     "metadata": {
      "tags": []
     },
     "output_type": "execute_result"
    }
   ],
   "source": [
    "model_nNetwork = MLPClassifier(random_state=1, max_iter=1000, alpha = 2, activation = 'relu', learning_rate = 'adaptive', hidden_layer_sizes=(200,100,100,50) )\n",
    "model_nNetwork.fit(x_train, y_train)"
   ]
  },
  {
   "cell_type": "code",
   "execution_count": 127,
   "metadata": {
    "colab": {
     "base_uri": "https://localhost:8080/"
    },
    "id": "WwJ0-JZMWfMf",
    "outputId": "1183f604-1d94-44a5-84f6-b7c88570718f"
   },
   "outputs": [
    {
     "name": "stdout",
     "output_type": "stream",
     "text": [
      "The training error is: 0.18953846153846154.\n"
     ]
    }
   ],
   "source": [
    "y_pred_train = model_nNetwork.predict(x_train)\n",
    "error = hamming_loss(y_train, y_pred_train)\n",
    "print('The training error is: ' + str(error) + '.')"
   ]
  },
  {
   "cell_type": "code",
   "execution_count": 128,
   "metadata": {
    "colab": {
     "base_uri": "https://localhost:8080/"
    },
    "id": "K-WZV2RqWfMg",
    "outputId": "6c6b1b10-e3ef-42d3-e429-c96a60642868"
   },
   "outputs": [
    {
     "name": "stdout",
     "output_type": "stream",
     "text": [
      "The validation error is: 0.30215384615384616.\n"
     ]
    }
   ],
   "source": [
    "y_pred_valid = model_nNetwork.predict(x_valid)\n",
    "error = hamming_loss(y_valid, y_pred_valid)\n",
    "print('The validation error is: ' + str(error) + '.')"
   ]
  },
  {
   "cell_type": "code",
   "execution_count": 129,
   "metadata": {
    "colab": {
     "base_uri": "https://localhost:8080/"
    },
    "id": "FHSJGi8GWfMj",
    "outputId": "6a6ce6c0-984f-4766-d6c0-3e5ef978064f"
   },
   "outputs": [
    {
     "data": {
      "text/plain": [
       "0.6978461538461538"
      ]
     },
     "execution_count": 129,
     "metadata": {
      "tags": []
     },
     "output_type": "execute_result"
    }
   ],
   "source": [
    "predicted_score = 1- error\n",
    "predicted_score"
   ]
  },
  {
   "cell_type": "code",
   "execution_count": 129,
   "metadata": {
    "id": "Lu5dSC4LWil-"
   },
   "outputs": [],
   "source": []
  },
  {
   "cell_type": "markdown",
   "metadata": {
    "id": "ewUQRBKAX7Tk"
   },
   "source": [
    "**Prueba 19**"
   ]
  },
  {
   "cell_type": "code",
   "execution_count": 130,
   "metadata": {
    "colab": {
     "base_uri": "https://localhost:8080/"
    },
    "id": "DdYx6_A0X7To",
    "outputId": "681db8d3-42eb-445a-f856-8cb085ee9a93"
   },
   "outputs": [
    {
     "data": {
      "text/plain": [
       "MLPClassifier(activation='relu', alpha=1.4, batch_size='auto', beta_1=0.9,\n",
       "              beta_2=0.999, early_stopping=False, epsilon=1e-08,\n",
       "              hidden_layer_sizes=(100, 100, 50, 50, 50),\n",
       "              learning_rate='adaptive', learning_rate_init=0.001, max_fun=15000,\n",
       "              max_iter=1500, momentum=0.9, n_iter_no_change=10,\n",
       "              nesterovs_momentum=True, power_t=0.5, random_state=1,\n",
       "              shuffle=True, solver='adam', tol=0.0001, validation_fraction=0.1,\n",
       "              verbose=False, warm_start=False)"
      ]
     },
     "execution_count": 130,
     "metadata": {
      "tags": []
     },
     "output_type": "execute_result"
    }
   ],
   "source": [
    "model_nNetwork = MLPClassifier(random_state=1, max_iter=1500, alpha = 1.4, activation = 'relu', learning_rate = 'adaptive', hidden_layer_sizes=(100,100,50,50, 50) )\n",
    "model_nNetwork.fit(x_train, y_train)"
   ]
  },
  {
   "cell_type": "code",
   "execution_count": 131,
   "metadata": {
    "colab": {
     "base_uri": "https://localhost:8080/"
    },
    "id": "baKOdrK0X7Tq",
    "outputId": "9b5d2a34-4ac1-41e7-adcb-96ef779279e5"
   },
   "outputs": [
    {
     "name": "stdout",
     "output_type": "stream",
     "text": [
      "The training error is: 0.17597802197802198.\n"
     ]
    }
   ],
   "source": [
    "y_pred_train = model_nNetwork.predict(x_train)\n",
    "error = hamming_loss(y_train, y_pred_train)\n",
    "print('The training error is: ' + str(error) + '.')"
   ]
  },
  {
   "cell_type": "code",
   "execution_count": 132,
   "metadata": {
    "colab": {
     "base_uri": "https://localhost:8080/"
    },
    "id": "rZfIyVl5X7Tq",
    "outputId": "03a97263-1ea3-4fe8-bfde-f268ac96febd"
   },
   "outputs": [
    {
     "name": "stdout",
     "output_type": "stream",
     "text": [
      "The validation error is: 0.2903076923076923.\n"
     ]
    }
   ],
   "source": [
    "y_pred_valid = model_nNetwork.predict(x_valid)\n",
    "error = hamming_loss(y_valid, y_pred_valid)\n",
    "print('The validation error is: ' + str(error) + '.')"
   ]
  },
  {
   "cell_type": "code",
   "execution_count": 133,
   "metadata": {
    "colab": {
     "base_uri": "https://localhost:8080/"
    },
    "id": "BOddDhAVX7Tr",
    "outputId": "fc9f9222-5a7b-4960-d3e4-26e377f26eed"
   },
   "outputs": [
    {
     "data": {
      "text/plain": [
       "0.7096923076923076"
      ]
     },
     "execution_count": 133,
     "metadata": {
      "tags": []
     },
     "output_type": "execute_result"
    }
   ],
   "source": [
    "predicted_score = 1- error\n",
    "predicted_score"
   ]
  },
  {
   "cell_type": "code",
   "execution_count": 133,
   "metadata": {
    "id": "irK_KfiIenAT"
   },
   "outputs": [],
   "source": []
  },
  {
   "cell_type": "markdown",
   "metadata": {
    "id": "xPgG_4jrqyyf"
   },
   "source": [
    "# Change train_size"
   ]
  },
  {
   "cell_type": "code",
   "execution_count": 137,
   "metadata": {
    "id": "Mlbl5aLfngeN"
   },
   "outputs": [],
   "source": [
    "x_train = x_train_pca1[:,0:250]\n",
    "x_valid = x_valid_pca1[:,0:250]\n",
    "x_test = x_test_pca1[:,0:250]\n"
   ]
  },
  {
   "cell_type": "code",
   "execution_count": 137,
   "metadata": {
    "id": "sI6SugBgnpaU"
   },
   "outputs": [],
   "source": []
  },
  {
   "cell_type": "markdown",
   "metadata": {
    "id": "CzUc6MjmnsWt"
   },
   "source": [
    "**Prueba 20**"
   ]
  },
  {
   "cell_type": "code",
   "execution_count": 138,
   "metadata": {
    "colab": {
     "base_uri": "https://localhost:8080/"
    },
    "id": "uVtt8HeVns3p",
    "outputId": "ae3b304a-5103-44f4-eaa6-6268335afb39"
   },
   "outputs": [
    {
     "data": {
      "text/plain": [
       "MLPClassifier(activation='relu', alpha=1.3, batch_size='auto', beta_1=0.9,\n",
       "              beta_2=0.999, early_stopping=False, epsilon=1e-08,\n",
       "              hidden_layer_sizes=(200, 200, 100, 100, 50),\n",
       "              learning_rate='adaptive', learning_rate_init=0.001, max_fun=15000,\n",
       "              max_iter=1500, momentum=0.9, n_iter_no_change=10,\n",
       "              nesterovs_momentum=True, power_t=0.5, random_state=1,\n",
       "              shuffle=True, solver='adam', tol=0.0001, validation_fraction=0.1,\n",
       "              verbose=False, warm_start=False)"
      ]
     },
     "execution_count": 138,
     "metadata": {
      "tags": []
     },
     "output_type": "execute_result"
    }
   ],
   "source": [
    "model_nNetwork = MLPClassifier(random_state=1, max_iter=1500, alpha = 1.3, activation = 'relu', learning_rate = 'adaptive', hidden_layer_sizes=(200,200,100,100, 50) )\n",
    "model_nNetwork.fit(x_train, y_train)"
   ]
  },
  {
   "cell_type": "code",
   "execution_count": 139,
   "metadata": {
    "colab": {
     "base_uri": "https://localhost:8080/"
    },
    "id": "xfs_EUpCns3q",
    "outputId": "d69dbca1-90b5-4064-fa2d-2e8084855d54"
   },
   "outputs": [
    {
     "name": "stdout",
     "output_type": "stream",
     "text": [
      "The training error is: 0.10173626373626374.\n"
     ]
    }
   ],
   "source": [
    "y_pred_train = model_nNetwork.predict(x_train)\n",
    "error = hamming_loss(y_train, y_pred_train)\n",
    "print('The training error is: ' + str(error) + '.')"
   ]
  },
  {
   "cell_type": "code",
   "execution_count": 140,
   "metadata": {
    "colab": {
     "base_uri": "https://localhost:8080/"
    },
    "id": "kLGL0zKMns3s",
    "outputId": "58398095-9c0f-40d4-b567-cd05efbe2590"
   },
   "outputs": [
    {
     "name": "stdout",
     "output_type": "stream",
     "text": [
      "The validation error is: 0.25994871794871793.\n"
     ]
    }
   ],
   "source": [
    "y_pred_valid = model_nNetwork.predict(x_valid)\n",
    "error = hamming_loss(y_valid, y_pred_valid)\n",
    "print('The validation error is: ' + str(error) + '.')"
   ]
  },
  {
   "cell_type": "code",
   "execution_count": 141,
   "metadata": {
    "colab": {
     "base_uri": "https://localhost:8080/"
    },
    "id": "C4HHCt5Jns3t",
    "outputId": "117aa406-18e3-4964-ce95-ed418000f9c9"
   },
   "outputs": [
    {
     "data": {
      "text/plain": [
       "0.7400512820512821"
      ]
     },
     "execution_count": 141,
     "metadata": {
      "tags": []
     },
     "output_type": "execute_result"
    }
   ],
   "source": [
    "predicted_score = 1- error\n",
    "predicted_score"
   ]
  },
  {
   "cell_type": "code",
   "execution_count": 141,
   "metadata": {
    "id": "HaHQoWOIn8LN"
   },
   "outputs": [],
   "source": []
  },
  {
   "cell_type": "markdown",
   "metadata": {
    "id": "tEJxJRggn8X2"
   },
   "source": [
    "**Prueba 21**"
   ]
  },
  {
   "cell_type": "code",
   "execution_count": 142,
   "metadata": {
    "colab": {
     "base_uri": "https://localhost:8080/"
    },
    "id": "ETY8H8lPn8X3",
    "outputId": "7bb06483-e879-4c67-9de9-d9191e4026bf"
   },
   "outputs": [
    {
     "data": {
      "text/plain": [
       "MLPClassifier(activation='relu', alpha=1.1, batch_size='auto', beta_1=0.9,\n",
       "              beta_2=0.999, early_stopping=False, epsilon=1e-08,\n",
       "              hidden_layer_sizes=(200, 100, 100, 50), learning_rate='adaptive',\n",
       "              learning_rate_init=0.001, max_fun=15000, max_iter=1000,\n",
       "              momentum=0.9, n_iter_no_change=10, nesterovs_momentum=True,\n",
       "              power_t=0.5, random_state=1, shuffle=True, solver='adam',\n",
       "              tol=0.0001, validation_fraction=0.1, verbose=False,\n",
       "              warm_start=False)"
      ]
     },
     "execution_count": 142,
     "metadata": {
      "tags": []
     },
     "output_type": "execute_result"
    }
   ],
   "source": [
    "model_nNetwork = MLPClassifier(random_state=1, max_iter=1000, alpha = 1.1, activation = 'relu', learning_rate = 'adaptive', hidden_layer_sizes=(200,100,100,50) )\n",
    "model_nNetwork.fit(x_train, y_train)"
   ]
  },
  {
   "cell_type": "code",
   "execution_count": 143,
   "metadata": {
    "colab": {
     "base_uri": "https://localhost:8080/"
    },
    "id": "-czXPNOpn8X4",
    "outputId": "a9c3729b-fcf7-4ff5-e04a-df2f585449bc"
   },
   "outputs": [
    {
     "name": "stdout",
     "output_type": "stream",
     "text": [
      "The training error is: 0.09151648351648352.\n"
     ]
    }
   ],
   "source": [
    "y_pred_train = model_nNetwork.predict(x_train)\n",
    "error = hamming_loss(y_train, y_pred_train)\n",
    "print('The training error is: ' + str(error) + '.')"
   ]
  },
  {
   "cell_type": "code",
   "execution_count": 144,
   "metadata": {
    "colab": {
     "base_uri": "https://localhost:8080/"
    },
    "id": "s_6bapupn8X4",
    "outputId": "fad27813-0168-44ba-ecab-213d29489999"
   },
   "outputs": [
    {
     "name": "stdout",
     "output_type": "stream",
     "text": [
      "The validation error is: 0.2528717948717949.\n"
     ]
    }
   ],
   "source": [
    "y_pred_valid = model_nNetwork.predict(x_valid)\n",
    "error = hamming_loss(y_valid, y_pred_valid)\n",
    "print('The validation error is: ' + str(error) + '.')"
   ]
  },
  {
   "cell_type": "code",
   "execution_count": 145,
   "metadata": {
    "colab": {
     "base_uri": "https://localhost:8080/"
    },
    "id": "vXh4I_bIn8X5",
    "outputId": "fc33e127-0052-45ba-f682-66698efc4925"
   },
   "outputs": [
    {
     "data": {
      "text/plain": [
       "0.7471282051282051"
      ]
     },
     "execution_count": 145,
     "metadata": {
      "tags": []
     },
     "output_type": "execute_result"
    }
   ],
   "source": [
    "predicted_score = 1- error\n",
    "predicted_score"
   ]
  },
  {
   "cell_type": "code",
   "execution_count": null,
   "metadata": {
    "id": "iQsXMhaqoCe6"
   },
   "outputs": [],
   "source": []
  },
  {
   "cell_type": "markdown",
   "metadata": {
    "id": "VlFzJAFGq4Fu"
   },
   "source": [
    "# Change train_size"
   ]
  },
  {
   "cell_type": "code",
   "execution_count": 146,
   "metadata": {
    "id": "L5hArr4Iq4F6"
   },
   "outputs": [],
   "source": [
    "x_train = x_train_pca1[:,0:225]\n",
    "x_valid = x_valid_pca1[:,0:225]\n",
    "x_test = x_test_pca1[:,0:225]\n"
   ]
  },
  {
   "cell_type": "code",
   "execution_count": 146,
   "metadata": {
    "id": "X01MqkAAq4F7"
   },
   "outputs": [],
   "source": []
  },
  {
   "cell_type": "markdown",
   "metadata": {
    "id": "HA9YM8woq4F7"
   },
   "source": [
    "**Prueba 22**"
   ]
  },
  {
   "cell_type": "code",
   "execution_count": 147,
   "metadata": {
    "colab": {
     "base_uri": "https://localhost:8080/"
    },
    "id": "wUhjU9m_q4F7",
    "outputId": "102815f6-08ba-4fcd-eb63-50060a409ef6"
   },
   "outputs": [
    {
     "data": {
      "text/plain": [
       "MLPClassifier(activation='relu', alpha=1.3, batch_size='auto', beta_1=0.9,\n",
       "              beta_2=0.999, early_stopping=False, epsilon=1e-08,\n",
       "              hidden_layer_sizes=(200, 200, 100, 100, 50),\n",
       "              learning_rate='adaptive', learning_rate_init=0.001, max_fun=15000,\n",
       "              max_iter=1500, momentum=0.9, n_iter_no_change=10,\n",
       "              nesterovs_momentum=True, power_t=0.5, random_state=1,\n",
       "              shuffle=True, solver='adam', tol=0.0001, validation_fraction=0.1,\n",
       "              verbose=False, warm_start=False)"
      ]
     },
     "execution_count": 147,
     "metadata": {
      "tags": []
     },
     "output_type": "execute_result"
    }
   ],
   "source": [
    "model_nNetwork = MLPClassifier(random_state=1, max_iter=1500, alpha = 1.3, activation = 'relu', learning_rate = 'adaptive', hidden_layer_sizes=(200,200,100,100, 50) )\n",
    "model_nNetwork.fit(x_train, y_train)"
   ]
  },
  {
   "cell_type": "code",
   "execution_count": 148,
   "metadata": {
    "colab": {
     "base_uri": "https://localhost:8080/"
    },
    "id": "ot8IZUP4q4F9",
    "outputId": "dc344bb5-df54-4072-9c37-1e9fb89a4997"
   },
   "outputs": [
    {
     "name": "stdout",
     "output_type": "stream",
     "text": [
      "The training error is: 0.09698901098901098.\n"
     ]
    }
   ],
   "source": [
    "y_pred_train = model_nNetwork.predict(x_train)\n",
    "error = hamming_loss(y_train, y_pred_train)\n",
    "print('The training error is: ' + str(error) + '.')"
   ]
  },
  {
   "cell_type": "code",
   "execution_count": 149,
   "metadata": {
    "colab": {
     "base_uri": "https://localhost:8080/"
    },
    "id": "iilRB6LMq4F-",
    "outputId": "fc449bc6-c92d-4b79-8ecb-6b1fe51f04df"
   },
   "outputs": [
    {
     "name": "stdout",
     "output_type": "stream",
     "text": [
      "The validation error is: 0.25984615384615384.\n"
     ]
    }
   ],
   "source": [
    "y_pred_valid = model_nNetwork.predict(x_valid)\n",
    "error = hamming_loss(y_valid, y_pred_valid)\n",
    "print('The validation error is: ' + str(error) + '.')"
   ]
  },
  {
   "cell_type": "code",
   "execution_count": 150,
   "metadata": {
    "colab": {
     "base_uri": "https://localhost:8080/"
    },
    "id": "xCCVDCSKq4F_",
    "outputId": "36e40df6-d7e6-47a7-c2db-41319dfe20f7"
   },
   "outputs": [
    {
     "data": {
      "text/plain": [
       "0.7401538461538462"
      ]
     },
     "execution_count": 150,
     "metadata": {
      "tags": []
     },
     "output_type": "execute_result"
    }
   ],
   "source": [
    "predicted_score = 1- error\n",
    "predicted_score"
   ]
  },
  {
   "cell_type": "code",
   "execution_count": 150,
   "metadata": {
    "id": "ySsUf4xwq4GC"
   },
   "outputs": [],
   "source": []
  },
  {
   "cell_type": "markdown",
   "metadata": {
    "id": "uOeOXPv0q4GD"
   },
   "source": [
    "**Prueba 23**"
   ]
  },
  {
   "cell_type": "code",
   "execution_count": 151,
   "metadata": {
    "colab": {
     "base_uri": "https://localhost:8080/"
    },
    "id": "YvuLbHWoq4GD",
    "outputId": "5088c967-459b-4210-a33b-73ea88201afa"
   },
   "outputs": [
    {
     "data": {
      "text/plain": [
       "MLPClassifier(activation='relu', alpha=1.1, batch_size='auto', beta_1=0.9,\n",
       "              beta_2=0.999, early_stopping=False, epsilon=1e-08,\n",
       "              hidden_layer_sizes=(200, 100, 100, 50), learning_rate='adaptive',\n",
       "              learning_rate_init=0.001, max_fun=15000, max_iter=1000,\n",
       "              momentum=0.9, n_iter_no_change=10, nesterovs_momentum=True,\n",
       "              power_t=0.5, random_state=1, shuffle=True, solver='adam',\n",
       "              tol=0.0001, validation_fraction=0.1, verbose=False,\n",
       "              warm_start=False)"
      ]
     },
     "execution_count": 151,
     "metadata": {
      "tags": []
     },
     "output_type": "execute_result"
    }
   ],
   "source": [
    "model_nNetwork = MLPClassifier(random_state=1, max_iter=1000, alpha = 1.1, activation = 'relu', learning_rate = 'adaptive', hidden_layer_sizes=(200,100,100,50) )\n",
    "model_nNetwork.fit(x_train, y_train)"
   ]
  },
  {
   "cell_type": "code",
   "execution_count": 152,
   "metadata": {
    "colab": {
     "base_uri": "https://localhost:8080/"
    },
    "id": "hr75Uaonq4GD",
    "outputId": "8c5e91c5-eecc-4859-ce7a-9a81f1c1a740"
   },
   "outputs": [
    {
     "name": "stdout",
     "output_type": "stream",
     "text": [
      "The training error is: 0.0974945054945055.\n"
     ]
    }
   ],
   "source": [
    "y_pred_train = model_nNetwork.predict(x_train)\n",
    "error = hamming_loss(y_train, y_pred_train)\n",
    "print('The training error is: ' + str(error) + '.')"
   ]
  },
  {
   "cell_type": "code",
   "execution_count": 153,
   "metadata": {
    "colab": {
     "base_uri": "https://localhost:8080/"
    },
    "id": "ddXC5OZfq4GE",
    "outputId": "743f6235-23f3-408a-b7d2-0ab4f8d80123"
   },
   "outputs": [
    {
     "name": "stdout",
     "output_type": "stream",
     "text": [
      "The validation error is: 0.2612307692307692.\n"
     ]
    }
   ],
   "source": [
    "y_pred_valid = model_nNetwork.predict(x_valid)\n",
    "error = hamming_loss(y_valid, y_pred_valid)\n",
    "print('The validation error is: ' + str(error) + '.')"
   ]
  },
  {
   "cell_type": "code",
   "execution_count": 154,
   "metadata": {
    "colab": {
     "base_uri": "https://localhost:8080/"
    },
    "id": "b8KQg_ABq4GE",
    "outputId": "77791512-d75b-42b5-d630-6e3e85bab18c"
   },
   "outputs": [
    {
     "data": {
      "text/plain": [
       "0.7387692307692308"
      ]
     },
     "execution_count": 154,
     "metadata": {
      "tags": []
     },
     "output_type": "execute_result"
    }
   ],
   "source": [
    "predicted_score = 1- error\n",
    "predicted_score"
   ]
  },
  {
   "cell_type": "code",
   "execution_count": 154,
   "metadata": {
    "id": "57-5v7Hxq4GE"
   },
   "outputs": [],
   "source": []
  },
  {
   "cell_type": "markdown",
   "metadata": {
    "id": "9wsxFnzSy8XF"
   },
   "source": [
    "**Cambio de PCA**"
   ]
  },
  {
   "cell_type": "code",
   "execution_count": 155,
   "metadata": {
    "id": "0KPIUCxYy87b"
   },
   "outputs": [],
   "source": [
    "x_train = x_train_pca1[:,0:210]\n",
    "x_valid = x_valid_pca1[:,0:210]\n",
    "x_test = x_test_pca1[:,0:210]"
   ]
  },
  {
   "cell_type": "markdown",
   "metadata": {
    "id": "cShHhzQFy9MZ"
   },
   "source": [
    "**Prueba 24**"
   ]
  },
  {
   "cell_type": "code",
   "execution_count": 156,
   "metadata": {
    "colab": {
     "base_uri": "https://localhost:8080/"
    },
    "id": "H9z58j3Jy9Ma",
    "outputId": "2e255356-8554-4c9b-db47-f32d5c9d8bc0"
   },
   "outputs": [
    {
     "data": {
      "text/plain": [
       "MLPClassifier(activation='relu', alpha=1.1, batch_size='auto', beta_1=0.9,\n",
       "              beta_2=0.999, early_stopping=False, epsilon=1e-08,\n",
       "              hidden_layer_sizes=(200, 100, 100, 50), learning_rate='adaptive',\n",
       "              learning_rate_init=0.001, max_fun=15000, max_iter=1000,\n",
       "              momentum=0.9, n_iter_no_change=10, nesterovs_momentum=True,\n",
       "              power_t=0.5, random_state=1, shuffle=True, solver='adam',\n",
       "              tol=0.0001, validation_fraction=0.1, verbose=False,\n",
       "              warm_start=False)"
      ]
     },
     "execution_count": 156,
     "metadata": {
      "tags": []
     },
     "output_type": "execute_result"
    }
   ],
   "source": [
    "model_nNetwork = MLPClassifier(random_state=1, max_iter=1000, alpha = 1.1, activation = 'relu', learning_rate = 'adaptive', hidden_layer_sizes=(200,100,100,50) )\n",
    "model_nNetwork.fit(x_train, y_train)"
   ]
  },
  {
   "cell_type": "code",
   "execution_count": 157,
   "metadata": {
    "colab": {
     "base_uri": "https://localhost:8080/"
    },
    "id": "p-2qEhO4y9Mb",
    "outputId": "78b45155-d521-449b-d236-0e3b08615c46"
   },
   "outputs": [
    {
     "name": "stdout",
     "output_type": "stream",
     "text": [
      "The training error is: 0.0891868131868132.\n"
     ]
    }
   ],
   "source": [
    "y_pred_train = model_nNetwork.predict(x_train)\n",
    "error = hamming_loss(y_train, y_pred_train)\n",
    "print('The training error is: ' + str(error) + '.')"
   ]
  },
  {
   "cell_type": "code",
   "execution_count": 158,
   "metadata": {
    "colab": {
     "base_uri": "https://localhost:8080/"
    },
    "id": "1aBf_HGUy9Mc",
    "outputId": "17d6ad52-ecd0-4eec-e74c-f367e1a250c1"
   },
   "outputs": [
    {
     "name": "stdout",
     "output_type": "stream",
     "text": [
      "The validation error is: 0.24687179487179486.\n"
     ]
    }
   ],
   "source": [
    "y_pred_valid = model_nNetwork.predict(x_valid)\n",
    "error = hamming_loss(y_valid, y_pred_valid)\n",
    "print('The validation error is: ' + str(error) + '.')"
   ]
  },
  {
   "cell_type": "code",
   "execution_count": 159,
   "metadata": {
    "colab": {
     "base_uri": "https://localhost:8080/"
    },
    "id": "ndUngq-0y9Md",
    "outputId": "e27445fe-9201-4eec-a891-198458378668"
   },
   "outputs": [
    {
     "data": {
      "text/plain": [
       "0.7531282051282051"
      ]
     },
     "execution_count": 159,
     "metadata": {
      "tags": []
     },
     "output_type": "execute_result"
    }
   ],
   "source": [
    "predicted_score = 1- error\n",
    "predicted_score"
   ]
  },
  {
   "cell_type": "code",
   "execution_count": 159,
   "metadata": {
    "id": "YdGEK9Hxy9Me"
   },
   "outputs": [],
   "source": []
  },
  {
   "cell_type": "markdown",
   "metadata": {
    "id": "0317Klrj2gHW"
   },
   "source": [
    "**Prueba 25**"
   ]
  },
  {
   "cell_type": "code",
   "execution_count": 161,
   "metadata": {
    "colab": {
     "base_uri": "https://localhost:8080/"
    },
    "id": "QuWT719a2gHg",
    "outputId": "f9425aa1-79d1-434c-b680-fade85f55967"
   },
   "outputs": [
    {
     "data": {
      "text/plain": [
       "MLPClassifier(activation='relu', alpha=1.1, batch_size='auto', beta_1=0.9,\n",
       "              beta_2=0.999, early_stopping=False, epsilon=1e-08,\n",
       "              hidden_layer_sizes=(200, 200, 200, 150), learning_rate='adaptive',\n",
       "              learning_rate_init=0.001, max_fun=15000, max_iter=1000,\n",
       "              momentum=0.9, n_iter_no_change=10, nesterovs_momentum=True,\n",
       "              power_t=0.5, random_state=1, shuffle=True, solver='adam',\n",
       "              tol=0.0001, validation_fraction=0.1, verbose=False,\n",
       "              warm_start=False)"
      ]
     },
     "execution_count": 161,
     "metadata": {
      "tags": []
     },
     "output_type": "execute_result"
    }
   ],
   "source": [
    "model_nNetwork = MLPClassifier(random_state=1, max_iter=1000, alpha = 1.1, activation = 'relu', learning_rate = 'adaptive', hidden_layer_sizes=(200,200,200,150) )\n",
    "model_nNetwork.fit(x_train, y_train)"
   ]
  },
  {
   "cell_type": "code",
   "execution_count": 162,
   "metadata": {
    "colab": {
     "base_uri": "https://localhost:8080/"
    },
    "id": "r5ai1GQ32gHi",
    "outputId": "2d18c4df-beb6-42d6-c4bd-55c19653e4f0"
   },
   "outputs": [
    {
     "name": "stdout",
     "output_type": "stream",
     "text": [
      "The training error is: 0.09424175824175825.\n"
     ]
    }
   ],
   "source": [
    "y_pred_train = model_nNetwork.predict(x_train)\n",
    "error = hamming_loss(y_train, y_pred_train)\n",
    "print('The training error is: ' + str(error) + '.')"
   ]
  },
  {
   "cell_type": "code",
   "execution_count": 163,
   "metadata": {
    "colab": {
     "base_uri": "https://localhost:8080/"
    },
    "id": "Uy7jPst42gHi",
    "outputId": "02bda4d5-578b-4d4d-e3d7-af8a07639a87"
   },
   "outputs": [
    {
     "name": "stdout",
     "output_type": "stream",
     "text": [
      "The validation error is: 0.255025641025641.\n"
     ]
    }
   ],
   "source": [
    "y_pred_valid = model_nNetwork.predict(x_valid)\n",
    "error = hamming_loss(y_valid, y_pred_valid)\n",
    "print('The validation error is: ' + str(error) + '.')"
   ]
  },
  {
   "cell_type": "code",
   "execution_count": 164,
   "metadata": {
    "colab": {
     "base_uri": "https://localhost:8080/"
    },
    "id": "0EI1iGxv2gHj",
    "outputId": "67189809-76b4-4e89-d4f5-d4a92dc0c724"
   },
   "outputs": [
    {
     "data": {
      "text/plain": [
       "0.7449743589743589"
      ]
     },
     "execution_count": 164,
     "metadata": {
      "tags": []
     },
     "output_type": "execute_result"
    }
   ],
   "source": [
    "predicted_score = 1- error\n",
    "predicted_score"
   ]
  },
  {
   "cell_type": "code",
   "execution_count": null,
   "metadata": {
    "id": "8doOLT1C2gHj"
   },
   "outputs": [],
   "source": []
  },
  {
   "cell_type": "markdown",
   "metadata": {
    "id": "c5-iR1og2mtc"
   },
   "source": [
    "**Prueba 26**"
   ]
  },
  {
   "cell_type": "code",
   "execution_count": 165,
   "metadata": {
    "colab": {
     "base_uri": "https://localhost:8080/"
    },
    "id": "2LnFimrn2mtc",
    "outputId": "8b24fe9c-ccc1-4871-bd8a-bebb68497e79"
   },
   "outputs": [
    {
     "data": {
      "text/plain": [
       "MLPClassifier(activation='relu', alpha=1.1, batch_size='auto', beta_1=0.9,\n",
       "              beta_2=0.999, early_stopping=False, epsilon=1e-08,\n",
       "              hidden_layer_sizes=(200, 200, 200, 150, 100),\n",
       "              learning_rate='adaptive', learning_rate_init=0.001, max_fun=15000,\n",
       "              max_iter=1000, momentum=0.9, n_iter_no_change=10,\n",
       "              nesterovs_momentum=True, power_t=0.5, random_state=1,\n",
       "              shuffle=True, solver='adam', tol=0.0001, validation_fraction=0.1,\n",
       "              verbose=False, warm_start=False)"
      ]
     },
     "execution_count": 165,
     "metadata": {
      "tags": []
     },
     "output_type": "execute_result"
    }
   ],
   "source": [
    "model_nNetwork = MLPClassifier(random_state=1, max_iter=1000, alpha = 1.1, activation = 'relu', learning_rate = 'adaptive', hidden_layer_sizes=(200,200,200,150,100) )\n",
    "model_nNetwork.fit(x_train, y_train)"
   ]
  },
  {
   "cell_type": "code",
   "execution_count": 166,
   "metadata": {
    "colab": {
     "base_uri": "https://localhost:8080/"
    },
    "id": "oM6xz6Jq2mtd",
    "outputId": "9b5f533e-80c7-4572-dcad-c357a0395288"
   },
   "outputs": [
    {
     "name": "stdout",
     "output_type": "stream",
     "text": [
      "The training error is: 0.09006593406593406.\n"
     ]
    }
   ],
   "source": [
    "y_pred_train = model_nNetwork.predict(x_train)\n",
    "error = hamming_loss(y_train, y_pred_train)\n",
    "print('The training error is: ' + str(error) + '.')"
   ]
  },
  {
   "cell_type": "code",
   "execution_count": 167,
   "metadata": {
    "colab": {
     "base_uri": "https://localhost:8080/"
    },
    "id": "b0fpnDx_2mtd",
    "outputId": "5cea2c0b-9273-47ac-eec5-1db46394e640"
   },
   "outputs": [
    {
     "name": "stdout",
     "output_type": "stream",
     "text": [
      "The validation error is: 0.2513846153846154.\n"
     ]
    }
   ],
   "source": [
    "y_pred_valid = model_nNetwork.predict(x_valid)\n",
    "error = hamming_loss(y_valid, y_pred_valid)\n",
    "print('The validation error is: ' + str(error) + '.')"
   ]
  },
  {
   "cell_type": "code",
   "execution_count": 168,
   "metadata": {
    "colab": {
     "base_uri": "https://localhost:8080/"
    },
    "id": "YYpKVVuS2mtd",
    "outputId": "65a018a1-771f-47b1-e6df-387532178027"
   },
   "outputs": [
    {
     "data": {
      "text/plain": [
       "0.7486153846153847"
      ]
     },
     "execution_count": 168,
     "metadata": {
      "tags": []
     },
     "output_type": "execute_result"
    }
   ],
   "source": [
    "predicted_score = 1- error\n",
    "predicted_score"
   ]
  },
  {
   "cell_type": "code",
   "execution_count": 168,
   "metadata": {
    "id": "V8UGwotX2mte"
   },
   "outputs": [],
   "source": []
  },
  {
   "cell_type": "markdown",
   "metadata": {
    "id": "nSuBvv3g6Kxp"
   },
   "source": [
    "**Cambio de PCA**"
   ]
  },
  {
   "cell_type": "code",
   "execution_count": 169,
   "metadata": {
    "id": "sAfAIAjN6Kx9"
   },
   "outputs": [],
   "source": [
    "x_train = x_train_pca1[:,0:203]\n",
    "x_valid = x_valid_pca1[:,0:203]\n",
    "x_test = x_test_pca1[:,0:203]"
   ]
  },
  {
   "cell_type": "markdown",
   "metadata": {
    "id": "6JVUisIZ6V7H"
   },
   "source": [
    "**Prueba 27**"
   ]
  },
  {
   "cell_type": "code",
   "execution_count": 170,
   "metadata": {
    "colab": {
     "base_uri": "https://localhost:8080/"
    },
    "id": "uVVmPITD6V7I",
    "outputId": "7f2cd145-6138-495a-ec44-7c2e801e1b1b"
   },
   "outputs": [
    {
     "data": {
      "text/plain": [
       "MLPClassifier(activation='relu', alpha=1.1, batch_size='auto', beta_1=0.9,\n",
       "              beta_2=0.999, early_stopping=False, epsilon=1e-08,\n",
       "              hidden_layer_sizes=(200, 100, 100, 50), learning_rate='adaptive',\n",
       "              learning_rate_init=0.001, max_fun=15000, max_iter=1000,\n",
       "              momentum=0.9, n_iter_no_change=10, nesterovs_momentum=True,\n",
       "              power_t=0.5, random_state=1, shuffle=True, solver='adam',\n",
       "              tol=0.0001, validation_fraction=0.1, verbose=False,\n",
       "              warm_start=False)"
      ]
     },
     "execution_count": 170,
     "metadata": {
      "tags": []
     },
     "output_type": "execute_result"
    }
   ],
   "source": [
    "model_nNetwork = MLPClassifier(random_state=1, max_iter=1000, alpha = 1.1, activation = 'relu', learning_rate = 'adaptive', hidden_layer_sizes=(200,100,100,50) )\n",
    "model_nNetwork.fit(x_train, y_train)"
   ]
  },
  {
   "cell_type": "code",
   "execution_count": 171,
   "metadata": {
    "colab": {
     "base_uri": "https://localhost:8080/"
    },
    "id": "XCcHOOsJ6V7Q",
    "outputId": "b9becc76-7e65-4e67-e9e5-3ad72d57de31"
   },
   "outputs": [
    {
     "name": "stdout",
     "output_type": "stream",
     "text": [
      "The training error is: 0.09982417582417583.\n"
     ]
    }
   ],
   "source": [
    "y_pred_train = model_nNetwork.predict(x_train)\n",
    "error = hamming_loss(y_train, y_pred_train)\n",
    "print('The training error is: ' + str(error) + '.')"
   ]
  },
  {
   "cell_type": "code",
   "execution_count": 172,
   "metadata": {
    "colab": {
     "base_uri": "https://localhost:8080/"
    },
    "id": "Y3oS0sGh6V7R",
    "outputId": "01bd859f-2fc3-4774-a26e-3cd54db46478"
   },
   "outputs": [
    {
     "name": "stdout",
     "output_type": "stream",
     "text": [
      "The validation error is: 0.25076923076923074.\n"
     ]
    }
   ],
   "source": [
    "y_pred_valid = model_nNetwork.predict(x_valid)\n",
    "error = hamming_loss(y_valid, y_pred_valid)\n",
    "print('The validation error is: ' + str(error) + '.')"
   ]
  },
  {
   "cell_type": "code",
   "execution_count": 173,
   "metadata": {
    "colab": {
     "base_uri": "https://localhost:8080/"
    },
    "id": "GxO177bA6V7R",
    "outputId": "483976ca-01b5-4144-edba-b209d535e183"
   },
   "outputs": [
    {
     "data": {
      "text/plain": [
       "0.7492307692307693"
      ]
     },
     "execution_count": 173,
     "metadata": {
      "tags": []
     },
     "output_type": "execute_result"
    }
   ],
   "source": [
    "predicted_score = 1- error\n",
    "predicted_score"
   ]
  },
  {
   "cell_type": "code",
   "execution_count": 174,
   "metadata": {
    "colab": {
     "base_uri": "https://localhost:8080/"
    },
    "id": "cBIKBEJt6V7R",
    "outputId": "cc88fcac-b30e-498c-87b7-9cca5d7c4dce"
   },
   "outputs": [
    {
     "data": {
      "text/plain": [
       "1"
      ]
     },
     "execution_count": 174,
     "metadata": {
      "tags": []
     },
     "output_type": "execute_result"
    }
   ],
   "source": [
    "y_pred_test = model_nNetwork.predict(x_test)\n",
    "predictions_as_csv(y_pred_test, \"nNetwork_prediction8\")"
   ]
  },
  {
   "cell_type": "code",
   "execution_count": null,
   "metadata": {
    "id": "A6kcnqPQ-spx"
   },
   "outputs": [],
   "source": []
  }
 ],
 "metadata": {
  "colab": {
   "collapsed_sections": [],
   "name": "Important.ipynb",
   "provenance": []
  },
  "kernelspec": {
   "display_name": "Python 3",
   "language": "python",
   "name": "python3"
  },
  "language_info": {
   "codemirror_mode": {
    "name": "ipython",
    "version": 3
   },
   "file_extension": ".py",
   "mimetype": "text/x-python",
   "name": "python",
   "nbconvert_exporter": "python",
   "pygments_lexer": "ipython3",
   "version": "3.8.3"
  }
 },
 "nbformat": 4,
 "nbformat_minor": 1
}
