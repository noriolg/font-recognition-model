{
 "cells": [
  {
   "cell_type": "markdown",
   "metadata": {},
   "source": [
    "# Font recognition - improved models\n"
   ]
  },
  {
   "cell_type": "markdown",
   "metadata": {},
   "source": [
    "## Load data and train-validation split"
   ]
  },
  {
   "cell_type": "markdown",
   "metadata": {},
   "source": [
    "**Data is loaded, observed and treated**"
   ]
  },
  {
   "cell_type": "code",
   "execution_count": 1,
   "metadata": {},
   "outputs": [],
   "source": [
    "import numpy as np\n",
    "import pandas as pd\n",
    "\n",
    "train_data = pd.read_csv('data/train_data.csv')\n",
    "train_labels = pd.read_csv('data/train_labels.csv')\n"
   ]
  },
  {
   "cell_type": "markdown",
   "metadata": {},
   "source": [
    "Labels are factorized and a full dataframe is constructed adding the encoded values as the last column"
   ]
  },
  {
   "cell_type": "code",
   "execution_count": 2,
   "metadata": {},
   "outputs": [],
   "source": [
    "label_encoded, unique_labels = pd.factorize(train_labels['Font'])\n",
    "labels = pd.DataFrame(label_encoded, columns=['label'])\n",
    "df = pd.concat([train_data, labels], axis = 1)"
   ]
  },
  {
   "cell_type": "markdown",
   "metadata": {},
   "source": [
    "**Train and validation split is conducted**"
   ]
  },
  {
   "cell_type": "code",
   "execution_count": 3,
   "metadata": {},
   "outputs": [],
   "source": [
    "from sklearn.model_selection import train_test_split\n",
    "X = df.iloc[:, :-1]\n",
    "Y = df.iloc[:, -1]\n",
    "x_train_df, x_valid_df, y_train_df, y_valid_df = train_test_split(X, Y, test_size=0.3, random_state = 0)"
   ]
  },
  {
   "cell_type": "markdown",
   "metadata": {},
   "source": [
    "**Finally, the test data is loaded as well**"
   ]
  },
  {
   "cell_type": "code",
   "execution_count": 4,
   "metadata": {},
   "outputs": [],
   "source": [
    "test_data = pd.read_csv('data/test_data.csv')\n",
    "x_test_df = test_data"
   ]
  },
  {
   "cell_type": "markdown",
   "metadata": {},
   "source": [
    "## Normalization of data"
   ]
  },
  {
   "cell_type": "markdown",
   "metadata": {},
   "source": [
    "Now df has all the needed information. It will be transformed to a np.array for easier treatment within sklearn package"
   ]
  },
  {
   "cell_type": "code",
   "execution_count": 5,
   "metadata": {},
   "outputs": [],
   "source": [
    "x_train_pre_norm = np.array(x_train_df)\n",
    "x_valid_pre_norm = np.array(x_valid_df)\n",
    "y_train = np.array(y_train_df)\n",
    "y_valid = np.array(y_valid_df)\n",
    "x_test_pre_norm = np.array(x_test_df)\n",
    "\n",
    "X_np = np.array(X)"
   ]
  },
  {
   "cell_type": "markdown",
   "metadata": {},
   "source": [
    "`mean` and `std` are obtained from full dataset"
   ]
  },
  {
   "cell_type": "code",
   "execution_count": 6,
   "metadata": {},
   "outputs": [],
   "source": [
    "mean = np.sum(X_np, axis = 0) / X_np.shape[0]\n",
    "std = np.std(X_np, axis = 0)"
   ]
  },
  {
   "cell_type": "markdown",
   "metadata": {},
   "source": [
    "Implement normalization function from Homework 9"
   ]
  },
  {
   "cell_type": "code",
   "execution_count": 7,
   "metadata": {},
   "outputs": [],
   "source": [
    "def normalize(X, mean, std):\n",
    "    \"\"\"Normalizes a given array X by columns \n",
    "    with the mean and std\"\"\"\n",
    "    X_out = np.zeros(X.shape)\n",
    "    X_out = (X - mean)/std\n",
    "    return X_out "
   ]
  },
  {
   "cell_type": "code",
   "execution_count": 8,
   "metadata": {},
   "outputs": [],
   "source": [
    "x_train = normalize(x_train_pre_norm, mean, std)\n",
    "x_valid = normalize(x_valid_pre_norm, mean, std)\n",
    "x_test = normalize(x_test_pre_norm, mean, std)"
   ]
  },
  {
   "cell_type": "markdown",
   "metadata": {},
   "source": [
    "## Function to save submission csv"
   ]
  },
  {
   "cell_type": "markdown",
   "metadata": {},
   "source": [
    "A function will be created that saves predictions as a csv with the correct format"
   ]
  },
  {
   "cell_type": "code",
   "execution_count": 9,
   "metadata": {},
   "outputs": [],
   "source": [
    "def predictions_as_csv(y_pred, file_name):\n",
    "    path = \"submissions/\"\n",
    "    status = 0\n",
    "    if len(y_pred) == 29221:\n",
    "        ids = np.arange(1,len(y_pred)+1,1)\n",
    "        pred_label = unique_labels[y_pred]\n",
    "        data = {'ID':ids, 'Font':pred_label} \n",
    "        submission = pd.DataFrame(data)\n",
    "        submission.to_csv(path + file_name + \".csv\", index = False)\n",
    "        status = 1\n",
    "    \n",
    "    return status"
   ]
  },
  {
   "cell_type": "markdown",
   "metadata": {},
   "source": [
    "## Neural network"
   ]
  },
  {
   "cell_type": "code",
   "execution_count": 10,
   "metadata": {},
   "outputs": [],
   "source": [
    "from sklearn.neural_network import MLPClassifier\n",
    "from sklearn.metrics import hamming_loss"
   ]
  },
  {
   "cell_type": "code",
   "execution_count": 11,
   "metadata": {},
   "outputs": [
    {
     "name": "stderr",
     "output_type": "stream",
     "text": [
      "C:\\Users\\norio\\anaconda3\\lib\\site-packages\\sklearn\\neural_network\\_multilayer_perceptron.py:587: UserWarning: Training interrupted by user.\n",
      "  warnings.warn(\"Training interrupted by user.\")\n"
     ]
    },
    {
     "data": {
      "text/plain": [
       "MLPClassifier(max_iter=300, random_state=1)"
      ]
     },
     "execution_count": 11,
     "metadata": {},
     "output_type": "execute_result"
    }
   ],
   "source": [
    "model_nNetwork = MLPClassifier(random_state=1, max_iter=300)\n",
    "model_nNetwork.fit(x_train, y_train)"
   ]
  },
  {
   "cell_type": "code",
   "execution_count": 12,
   "metadata": {},
   "outputs": [
    {
     "name": "stdout",
     "output_type": "stream",
     "text": [
      "The training error is: 0.3168131868131868.\n"
     ]
    }
   ],
   "source": [
    "y_pred_train = model_nNetwork.predict(x_train)\n",
    "error = hamming_loss(y_train, y_pred_train)\n",
    "print('The training error is: ' + str(error) + '.')"
   ]
  },
  {
   "cell_type": "code",
   "execution_count": 13,
   "metadata": {},
   "outputs": [
    {
     "name": "stdout",
     "output_type": "stream",
     "text": [
      "The validation error is: 0.39887179487179486.\n"
     ]
    }
   ],
   "source": [
    "y_pred_valid = model_nNetwork.predict(x_valid)\n",
    "error = hamming_loss(y_valid, y_pred_valid)\n",
    "print('The validation error is: ' + str(error) + '.')"
   ]
  },
  {
   "cell_type": "code",
   "execution_count": 14,
   "metadata": {},
   "outputs": [
    {
     "data": {
      "text/plain": [
       "0.6011282051282052"
      ]
     },
     "execution_count": 14,
     "metadata": {},
     "output_type": "execute_result"
    }
   ],
   "source": [
    "predicted_score = 1- error\n",
    "predicted_score"
   ]
  },
  {
   "cell_type": "markdown",
   "metadata": {},
   "source": [
    "**Predictions with test set are computed**"
   ]
  },
  {
   "cell_type": "code",
   "execution_count": 15,
   "metadata": {},
   "outputs": [],
   "source": [
    "y_pred_test = model_nNetwork.predict(x_test)"
   ]
  },
  {
   "cell_type": "code",
   "execution_count": 16,
   "metadata": {},
   "outputs": [
    {
     "data": {
      "text/plain": [
       "1"
      ]
     },
     "execution_count": 16,
     "metadata": {},
     "output_type": "execute_result"
    }
   ],
   "source": [
    "predictions_as_csv(y_pred_test, \"nNetwork_prediction\")"
   ]
  },
  {
   "cell_type": "markdown",
   "metadata": {},
   "source": [
    "## Neural network alpha = 0.5"
   ]
  },
  {
   "cell_type": "code",
   "execution_count": 17,
   "metadata": {},
   "outputs": [],
   "source": [
    "from sklearn.neural_network import MLPClassifier\n",
    "from sklearn.metrics import hamming_loss"
   ]
  },
  {
   "cell_type": "code",
   "execution_count": null,
   "metadata": {},
   "outputs": [],
   "source": [
    "model_nNetwork = MLPClassifier(random_state=1, max_iter=300, alpha = 0.5, activation = 'logistic')\n",
    "model_nNetwork.fit(x_train, y_train)"
   ]
  },
  {
   "cell_type": "code",
   "execution_count": null,
   "metadata": {},
   "outputs": [],
   "source": [
    "y_pred_train = model_nNetwork.predict(x_train)\n",
    "error = hamming_loss(y_train, y_pred_train)\n",
    "print('The training error is: ' + str(error) + '.')"
   ]
  },
  {
   "cell_type": "code",
   "execution_count": null,
   "metadata": {},
   "outputs": [],
   "source": [
    "y_pred_valid = model_nNetwork.predict(x_valid)\n",
    "error = hamming_loss(y_valid, y_pred_valid)\n",
    "print('The validation error is: ' + str(error) + '.')"
   ]
  },
  {
   "cell_type": "code",
   "execution_count": null,
   "metadata": {},
   "outputs": [],
   "source": [
    "predicted_score = 1- error\n",
    "predicted_score"
   ]
  },
  {
   "cell_type": "markdown",
   "metadata": {},
   "source": [
    "**Predictions with test set are computed**"
   ]
  },
  {
   "cell_type": "code",
   "execution_count": null,
   "metadata": {},
   "outputs": [],
   "source": [
    "y_pred_test = model_nNetwork.predict(x_test)"
   ]
  },
  {
   "cell_type": "code",
   "execution_count": null,
   "metadata": {},
   "outputs": [],
   "source": [
    "predictions_as_csv(y_pred_test, \"nNetwork_prediction2\")"
   ]
  },
  {
   "cell_type": "markdown",
   "metadata": {},
   "source": [
    "## Neural network varying params"
   ]
  },
  {
   "cell_type": "markdown",
   "metadata": {},
   "source": [
    "A variation of parameters is tried to see f performance can be increased. It takes too much time to try out all compbinations so several of them were tried and results are shown below."
   ]
  },
  {
   "cell_type": "code",
   "execution_count": null,
   "metadata": {},
   "outputs": [],
   "source": [
    "from sklearn.neural_network import MLPClassifier\n",
    "from sklearn.metrics import hamming_loss"
   ]
  },
  {
   "cell_type": "code",
   "execution_count": null,
   "metadata": {},
   "outputs": [],
   "source": [
    "activation_functions = ['logistic', 'tanh', 'relu', 'identity']\n",
    "solvers = ['adam']\n",
    "learning_rates = ['adaptive']\n",
    "alphas = np.linspace(start=1, stop =10, num = 10)"
   ]
  },
  {
   "cell_type": "code",
   "execution_count": null,
   "metadata": {},
   "outputs": [],
   "source": [
    "rows_NN_performance = []\n",
    "columns = ['activation_function', 'solver', 'learning_rate', 'alpha', 'train_error', 'test_error', 'predicted_score']\n"
   ]
  },
  {
   "cell_type": "code",
   "execution_count": null,
   "metadata": {
    "scrolled": true
   },
   "outputs": [],
   "source": [
    "for activation_function in activation_functions:\n",
    "    print(\"\\n=============\")\n",
    "    print(\"Activation function\")\n",
    "    print(activation_function)\n",
    "    for solver in solvers:\n",
    "        print(\"\\n======\")\n",
    "        print(\"Solver\")\n",
    "        print(solver)\n",
    "        \n",
    "        for learning_rate in learning_rates:\n",
    "            print(\"=\")\n",
    "            print(\"L rate\")\n",
    "            print(learning_rate)\n",
    "            \n",
    "            for alpha in alphas:\n",
    "                print(alpha)\n",
    "                model_nNetwork = MLPClassifier(random_state=1, max_iter=600, alpha = alpha, activation = activation_function, solver = solver)\n",
    "                model_nNetwork.fit(x_train, y_train)\n",
    "                \n",
    "                y_pred_train = model_nNetwork.predict(x_train)\n",
    "                train_error = hamming_loss(y_train, y_pred_train)\n",
    "                \n",
    "                y_pred_valid = model_nNetwork.predict(x_valid)\n",
    "                test_error = hamming_loss(y_valid, y_pred_valid)\n",
    "                \n",
    "                predicted_score = 1- test_error\n",
    "                predicted_score\n",
    "                \n",
    "                rows_NN_performance.append(dict(zip(columns,[activation_function, solver, learning_rate, alpha, train_error, test_error, predicted_score ])))                \n",
    "\n",
    "df = pd.DataFrame(rows_NN_performance)                "
   ]
  },
  {
   "cell_type": "code",
   "execution_count": null,
   "metadata": {
    "scrolled": true
   },
   "outputs": [],
   "source": [
    "df"
   ]
  },
  {
   "cell_type": "markdown",
   "metadata": {},
   "source": [
    "## Neural network more hidden layers"
   ]
  },
  {
   "cell_type": "code",
   "execution_count": null,
   "metadata": {},
   "outputs": [],
   "source": [
    "from sklearn.neural_network import MLPClassifier\n",
    "from sklearn.metrics import hamming_loss"
   ]
  },
  {
   "cell_type": "code",
   "execution_count": null,
   "metadata": {},
   "outputs": [],
   "source": [
    "model_nNetwork = MLPClassifier(random_state=1, max_iter=500, alpha = 0.5, activation = 'logistic',  hidden_layer_sizes=(10, 6))\n",
    "model_nNetwork.fit(x_train, y_train)"
   ]
  },
  {
   "cell_type": "code",
   "execution_count": null,
   "metadata": {},
   "outputs": [],
   "source": [
    "y_pred_train = model_nNetwork.predict(x_train)\n",
    "error = hamming_loss(y_train, y_pred_train)\n",
    "print('The training error is: ' + str(error) + '.')"
   ]
  },
  {
   "cell_type": "code",
   "execution_count": null,
   "metadata": {},
   "outputs": [],
   "source": [
    "y_pred_valid = model_nNetwork.predict(x_valid)\n",
    "error = hamming_loss(y_valid, y_pred_valid)\n",
    "print('The validation error is: ' + str(error) + '.')"
   ]
  },
  {
   "cell_type": "code",
   "execution_count": null,
   "metadata": {},
   "outputs": [],
   "source": [
    "predicted_score = 1- error\n",
    "predicted_score"
   ]
  },
  {
   "cell_type": "markdown",
   "metadata": {},
   "source": [
    "## Random search"
   ]
  },
  {
   "cell_type": "code",
   "execution_count": null,
   "metadata": {},
   "outputs": [],
   "source": [
    "from sklearn.model_selection import GridSearchCV\n",
    "from sklearn.model_selection import RandomizedSearchCV\n",
    "from sklearn.neural_network import MLPClassifier\n",
    "from sklearn.metrics import hamming_loss\n",
    "from scipy.stats import uniform"
   ]
  },
  {
   "cell_type": "code",
   "execution_count": null,
   "metadata": {},
   "outputs": [],
   "source": [
    "activation_functions = ['logistic', 'tanh', 'relu', 'identity']\n",
    "solvers = ['adam','lbfgs', 'sgd']\n",
    "learning_rates = ['adaptive', 'invscaling']\n",
    "alphas = np.linspace(start=0.1, stop =3, num = 10).tolist()"
   ]
  },
  {
   "cell_type": "code",
   "execution_count": null,
   "metadata": {},
   "outputs": [],
   "source": [
    "distributions = {'activation':('logistic', 'tanh', 'relu', 'identity'), 'solver':('adam','lbfgs', 'sgd'), 'learning_rate':('adaptive', 'invscaling'), 'alpha':alphas}"
   ]
  },
  {
   "cell_type": "code",
   "execution_count": null,
   "metadata": {},
   "outputs": [],
   "source": [
    "neural_NN = MLPClassifier(max_iter=1000, random_state = 1)"
   ]
  },
  {
   "cell_type": "code",
   "execution_count": null,
   "metadata": {},
   "outputs": [],
   "source": [
    "#clf = GridSearchCV(neural_NN, parameters)\n",
    "clf = RandomizedSearchCV(neural_NN, distributions)"
   ]
  },
  {
   "cell_type": "code",
   "execution_count": null,
   "metadata": {},
   "outputs": [],
   "source": [
    "clf.fit(x_train, y_train)"
   ]
  },
  {
   "cell_type": "code",
   "execution_count": null,
   "metadata": {},
   "outputs": [],
   "source": [
    "clf.best_params_"
   ]
  },
  {
   "cell_type": "code",
   "execution_count": null,
   "metadata": {},
   "outputs": [],
   "source": [
    "y_pred_train = clf.predict(x_train)\n",
    "error = hamming_loss(y_train, y_pred_train)\n",
    "print('The training error is: ' + str(error) + '.')"
   ]
  },
  {
   "cell_type": "code",
   "execution_count": null,
   "metadata": {},
   "outputs": [],
   "source": [
    "y_pred_valid = clf.predict(x_valid)\n",
    "error = hamming_loss(y_valid, y_pred_valid)\n",
    "print('The validation error is: ' + str(error) + '.')"
   ]
  },
  {
   "cell_type": "code",
   "execution_count": null,
   "metadata": {},
   "outputs": [],
   "source": [
    "predicted_score = 1- error\n",
    "predicted_score"
   ]
  },
  {
   "cell_type": "code",
   "execution_count": null,
   "metadata": {},
   "outputs": [],
   "source": [
    "sorted(clf.cv_results_.keys())"
   ]
  },
  {
   "cell_type": "markdown",
   "metadata": {},
   "source": [
    "## Deep neural network"
   ]
  },
  {
   "cell_type": "code",
   "execution_count": null,
   "metadata": {},
   "outputs": [],
   "source": [
    "model_nNetwork = MLPClassifier(random_state=1, max_iter=1000, alpha = 1.38, activation = 'relu', learning_rate = 'adaptive', solver = 'sgd', hidden_layer_sizes=(200,100,100,50) )\n",
    "model_nNetwork.fit(x_train, y_train)\n",
    "\n",
    "y_pred_train = model_nNetwork.predict(x_train)\n",
    "error = hamming_loss(y_train, y_pred_train)\n",
    "print('The training error is: ' + str(error) + '.')\n",
    "\n",
    "y_pred_valid = model_nNetwork.predict(x_valid)\n",
    "error = hamming_loss(y_valid, y_pred_valid)\n",
    "print('The validation error is: ' + str(error) + '.')\n",
    "\n",
    "predicted_score = 1- error\n",
    "predicted_score"
   ]
  }
 ],
 "metadata": {
  "kernelspec": {
   "display_name": "Python 3",
   "language": "python",
   "name": "python3"
  },
  "language_info": {
   "codemirror_mode": {
    "name": "ipython",
    "version": 3
   },
   "file_extension": ".py",
   "mimetype": "text/x-python",
   "name": "python",
   "nbconvert_exporter": "python",
   "pygments_lexer": "ipython3",
   "version": "3.8.3"
  }
 },
 "nbformat": 4,
 "nbformat_minor": 4
}
